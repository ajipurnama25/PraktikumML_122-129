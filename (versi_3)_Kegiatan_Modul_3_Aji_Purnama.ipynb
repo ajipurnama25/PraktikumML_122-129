{
  "nbformat": 4,
  "nbformat_minor": 0,
  "metadata": {
    "colab": {
      "name": "(versi 3) Kegiatan Modul 3_Aji Purnama.ipynb",
      "provenance": [],
      "collapsed_sections": []
    },
    "kernelspec": {
      "name": "python3",
      "display_name": "Python 3"
    },
    "language_info": {
      "name": "python"
    },
    "accelerator": "GPU"
  },
  "cells": [
    {
      "cell_type": "markdown",
      "metadata": {
        "id": "wQBa4hXoxDUd"
      },
      "source": [
        "# **Soal Praktikum Overfitting Handling #1**"
      ]
    },
    {
      "cell_type": "markdown",
      "metadata": {
        "id": "06V87X5rVRM2"
      },
      "source": [
        "## Kegiatan 1 **(Individu)** \n",
        "70 poin"
      ]
    },
    {
      "cell_type": "markdown",
      "metadata": {
        "id": "u6kTqqtESNnc"
      },
      "source": [
        "**Peraturan :**\n",
        "* Tidak boleh ada error dalam kode program\n",
        "* Dalam modul ini tidak diperbolehkan menggunakan teknik transfer learning dari pretrain model baik yang telah dibangun sendiri atau anda dapatkan dari sumber lain (tensorflow, keras, dan sebagainya)\n",
        "* Perhatikan langkah demi langkah yang diperintahkan dalam kegiatan ini"
      ]
    },
    {
      "cell_type": "markdown",
      "metadata": {
        "id": "-muSoJjnFt8y"
      },
      "source": [
        "### Pengenalan tugas kegiatan 1"
      ]
    },
    {
      "cell_type": "markdown",
      "metadata": {
        "id": "LxFmKc3D1apX"
      },
      "source": [
        "Dataset yang akan anda gunakan dalam kegiatan ini adalah dataset [Rock Paper Scissors](https://www.kaggle.com/drgfreeman/rockpaperscissors).  Demi mempermudah anda dalam mengerjakan modul ini maka akan sangat disarankan untuk menggunakan [google colab](https://colab.research.google.com/). Anda dapat menggunakan google colab untuk mendownload langsung dataset dari kaggle dan menyimpannya dalam google drive anda. Untuk kenyamanan dan ruang kerja yang besar akan lebih baik anda menggunakan email kampus untuk menyimpan dataset yang anda gunakan. Perhatikan langkah berikut untuk melakukan setting environment anda."
      ]
    },
    {
      "cell_type": "markdown",
      "metadata": {
        "id": "fLoYIWSbKgko"
      },
      "source": [
        "### 1. Initial process\n",
        "\n"
      ]
    },
    {
      "cell_type": "markdown",
      "metadata": {
        "id": "8yzN1yOK1V-K"
      },
      "source": [
        "* Mount drive terlebih dahulu\n",
        "\n",
        "* Untuk dapat mengakses dataset ini anda diharuskan memiliki akun kaggle. Jika belum memilikinya buat satu akun pribadi.\n",
        "\n",
        "* Download kaggle API.json kemudian upload dalam google drive anda.\n",
        "\n",
        "* Ubah lokasi direktori kerja anda ke direktori dimana anda menyimpan kaggle.json\n",
        "\n",
        "* Buka laman dataset kemudian Copy API Command.\n",
        "\n",
        "* Jalankan perintah untuk mendownload dataset dari kaggle menggunakan google colab.\n",
        "\n",
        "* Gunakan tutorial berikut untuk lebih jelasnya : [Fetch Kaggle Dataset into Google Colab](https://medium.com/analytics-vidhya/how-to-fetch-kaggle-datasets-into-google-colab-ea682569851a)\n",
        "\n",
        "* Untuk selanjutnya pahami code dibawah dengan baik."
      ]
    },
    {
      "cell_type": "code",
      "metadata": {
        "id": "j_Pt8kqmKpXv"
      },
      "source": [
        "#import library \n",
        "import pandas as pd\n",
        "import numpy as np\n",
        "import os, cv2, shutil\n",
        "import numpy as np\n",
        "import matplotlib.pyplot as plt\n",
        "import matplotlib.image as mpimg\n",
        "%matplotlib inline\n",
        "from sklearn.model_selection import train_test_split\n",
        "from sklearn.metrics import classification_report, confusion_matrix\n",
        "from tensorflow.keras.preprocessing.image import ImageDataGenerator\n",
        "from tensorflow.keras.models import Sequential\n",
        "from tensorflow.keras.layers import InputLayer, Dense, Conv2D, MaxPool2D, Flatten,BatchNormalization, Dropout\n",
        "from tensorflow.keras.optimizers import Adam\n",
        "from google.colab import files\n",
        "from keras.preprocessing import image"
      ],
      "execution_count": 1,
      "outputs": []
    },
    {
      "cell_type": "code",
      "metadata": {
        "id": "_iP7_H-5ubtG",
        "colab": {
          "base_uri": "https://localhost:8080/"
        },
        "outputId": "0efc5202-168f-4023-f895-40a0e22324d4"
      },
      "source": [
        "from google.colab import drive\n",
        "drive.mount('/content/drive')"
      ],
      "execution_count": 3,
      "outputs": [
        {
          "output_type": "stream",
          "name": "stdout",
          "text": [
            "Mounted at /content/drive\n"
          ]
        }
      ]
    },
    {
      "cell_type": "code",
      "metadata": {
        "id": "fWkAcnefSPKI"
      },
      "source": [
        "# Definisikan path kaggle json\n",
        "# Sesuaikan dengan path anda\n",
        "import os\n",
        "os.environ['KAGGLE_CONFIG_DIR'] = \"/content/drive/My Drive/Dataset_Modul3\""
      ],
      "execution_count": 4,
      "outputs": []
    },
    {
      "cell_type": "code",
      "metadata": {
        "id": "IPUJ-XM5S4Th",
        "colab": {
          "base_uri": "https://localhost:8080/"
        },
        "outputId": "80f5feb3-10ae-44da-e2b0-dfa6e9b88216"
      },
      "source": [
        "# Ubah lokasi direktori kerja\n",
        "# Sesuaikan dengan path anda\n",
        "%cd /content/drive/MyDrive/Dataset_Modul3/data"
      ],
      "execution_count": 34,
      "outputs": [
        {
          "output_type": "stream",
          "name": "stdout",
          "text": [
            "/content/drive/MyDrive/Dataset_Modul3/data\n"
          ]
        }
      ]
    },
    {
      "cell_type": "code",
      "metadata": {
        "id": "69Bbmd-TCGhh",
        "colab": {
          "base_uri": "https://localhost:8080/"
        },
        "outputId": "c99e789b-e92b-4911-e83e-dec3b82683d1"
      },
      "source": [
        "# Cek apakah api sudah terbaca oleh sistem\n",
        "!ls  "
      ],
      "execution_count": 35,
      "outputs": [
        {
          "output_type": "stream",
          "name": "stdout",
          "text": [
            "rockpaperscissors.zip\n"
          ]
        }
      ]
    },
    {
      "cell_type": "markdown",
      "metadata": {
        "id": "7wGGZC8vTX0A"
      },
      "source": [
        "* Paste API Command dari kaggle dataset yang telah anda copy sebelumnya dan tambahkan tanda seru didepannya.\n",
        "* Pastikan anda menggunakan akun google dari kampus untuk mendapatkan storage penyimpanan unlimited.\n",
        "* Lebih disarankan untuk menggunakan google colab karena proses download data lebih cepat dan stabil daripada download manual dan menggunakan jupyter notebook."
      ]
    },
    {
      "cell_type": "code",
      "metadata": {
        "id": "emSTR53KTGW9",
        "colab": {
          "base_uri": "https://localhost:8080/"
        },
        "outputId": "8cf1d55e-7b58-4c84-b6ed-f689d73af06e"
      },
      "source": [
        "!kaggle datasets download -d drgfreeman/rockpaperscissors"
      ],
      "execution_count": 7,
      "outputs": [
        {
          "output_type": "stream",
          "name": "stdout",
          "text": [
            "rockpaperscissors.zip: Skipping, found more recently modified local copy (use --force to force download)\n"
          ]
        }
      ]
    },
    {
      "cell_type": "code",
      "metadata": {
        "id": "JcpagHVWbdDY",
        "colab": {
          "base_uri": "https://localhost:8080/"
        },
        "outputId": "20f1538f-e74e-445b-be6a-a325fe0b9345"
      },
      "source": [
        "# Cek isi direktori kerja dan memastikan dataset telah berhasil didownload.\n",
        "!ls"
      ],
      "execution_count": 8,
      "outputs": [
        {
          "output_type": "stream",
          "name": "stdout",
          "text": [
            "data\t     paper\t\t       rockpaperscissors.zip  train\n",
            "Dataset      README_rpc-cv-images.txt  rps-cv-images\t      val\n",
            "kaggle.json  rock\t\t       test\n"
          ]
        }
      ]
    },
    {
      "cell_type": "code",
      "metadata": {
        "id": "3HDyNsR3bam4"
      },
      "source": [
        "# Ekstrak file dataset dan hapus file zip dataset agar tidak memakan banyak tempat.\n",
        "!unzip \\*.zip &> /dev/null && rm *.zip"
      ],
      "execution_count": 36,
      "outputs": []
    },
    {
      "cell_type": "code",
      "metadata": {
        "id": "Vgw_k1zihmkK",
        "colab": {
          "base_uri": "https://localhost:8080/"
        },
        "outputId": "65100fbd-7eff-4da9-c27a-ed2bc3ebc36c"
      },
      "source": [
        "# Cek isi direktori kerja untuk memastikan dataset telah berhasil diekstrak.\n",
        "!ls"
      ],
      "execution_count": 37,
      "outputs": [
        {
          "output_type": "stream",
          "name": "stdout",
          "text": [
            "paper  README_rpc-cv-images.txt  rock  rps-cv-images  scissors\n"
          ]
        }
      ]
    },
    {
      "cell_type": "code",
      "metadata": {
        "id": "45KK5u9KKd55"
      },
      "source": [
        "os.makedirs('/content/drive/MyDrive/Dataset_Modul3/data/model_dataset')"
      ],
      "execution_count": 38,
      "outputs": []
    },
    {
      "cell_type": "code",
      "metadata": {
        "id": "x57Tfd-EKd3i"
      },
      "source": [
        "shutil.move('paper', 'Dataset')\n",
        "shutil.move('rock', 'Dataset')\n",
        "shutil.move('scissors', 'Dataset')"
      ],
      "execution_count": null,
      "outputs": []
    },
    {
      "cell_type": "code",
      "metadata": {
        "colab": {
          "base_uri": "https://localhost:8080/"
        },
        "id": "WyfCvxGPKd0N",
        "outputId": "44264d88-812d-46cd-e4f2-c3e0cf251f1f"
      },
      "source": [
        "!ls  "
      ],
      "execution_count": 39,
      "outputs": [
        {
          "output_type": "stream",
          "name": "stdout",
          "text": [
            "model_dataset  paper  README_rpc-cv-images.txt\trock  rps-cv-images  scissors\n"
          ]
        }
      ]
    },
    {
      "cell_type": "code",
      "metadata": {
        "colab": {
          "base_uri": "https://localhost:8080/"
        },
        "id": "q2dUcglFKdyI",
        "outputId": "98eb5584-eff7-4ffe-fc1b-a31173e1da6b"
      },
      "source": [
        "!pip install split-folders"
      ],
      "execution_count": 40,
      "outputs": [
        {
          "output_type": "stream",
          "name": "stdout",
          "text": [
            "Requirement already satisfied: split-folders in /usr/local/lib/python3.7/dist-packages (0.4.3)\n"
          ]
        }
      ]
    },
    {
      "cell_type": "code",
      "metadata": {
        "id": "1gS8P4H8Ky52"
      },
      "source": [
        "base_dir = '/content/drive/MyDrive/Dataset_Modul3/data/rps-cv-images'\n",
        "data_dir = '/content/drive/MyDrive/Dataset_Modul3/data/model_dataset'"
      ],
      "execution_count": 41,
      "outputs": []
    },
    {
      "cell_type": "code",
      "metadata": {
        "colab": {
          "base_uri": "https://localhost:8080/"
        },
        "id": "blppftJ2Ky2R",
        "outputId": "5fea4a56-523b-4138-9798-bd28dd9cc5bd"
      },
      "source": [
        "import splitfolders\n",
        "splitfolders.ratio(base_dir, output=data_dir, seed=1337, ratio=(.8,.1,.1),group_prefix=None)"
      ],
      "execution_count": 42,
      "outputs": [
        {
          "output_type": "stream",
          "name": "stderr",
          "text": [
            "Copying files: 2188 files [00:45, 48.17 files/s]\n"
          ]
        }
      ]
    },
    {
      "cell_type": "code",
      "metadata": {
        "id": "63QdphTPKy0G",
        "colab": {
          "base_uri": "https://localhost:8080/"
        },
        "outputId": "85d9ae93-1fcf-4377-c34e-05d4104d5730"
      },
      "source": [
        "%cd /content/drive/MyDrive/Dataset_Modul3/data/model_dataset\n",
        "\n",
        "!ls  "
      ],
      "execution_count": 43,
      "outputs": [
        {
          "output_type": "stream",
          "name": "stdout",
          "text": [
            "/content/drive/MyDrive/Dataset_Modul3/data/model_dataset\n",
            "test  train  val\n"
          ]
        }
      ]
    },
    {
      "cell_type": "code",
      "metadata": {
        "id": "dXJI5n1LLGhc"
      },
      "source": [
        "os.remove('README_rpc-cv-images.txt')"
      ],
      "execution_count": 19,
      "outputs": []
    },
    {
      "cell_type": "code",
      "metadata": {
        "colab": {
          "base_uri": "https://localhost:8080/"
        },
        "id": "fUxrzIisLGeJ",
        "outputId": "421efc34-9d74-4a0c-f7c4-f3b6a462052e"
      },
      "source": [
        "!ls  "
      ],
      "execution_count": 20,
      "outputs": [
        {
          "output_type": "stream",
          "name": "stdout",
          "text": [
            "data\t kaggle.json  rock\t\t     rps-cv-images  train\n",
            "Dataset  paper\t      rockpaperscissors.zip  test\t    val\n"
          ]
        }
      ]
    },
    {
      "cell_type": "markdown",
      "metadata": {
        "id": "dPVmxstVUvyL"
      },
      "source": [
        "Buat folder baru bernama `dataset` dan memindahkan folder `paper, rock, scissors` kedalam folder `dataset`. Selanjutnya, lakukan splitting dataset menjadi 3 bagian `train, test, val` dan simpan ketiga folder tersebut diluar folder `dataset`. Data `train dan val` akan digunakan ketika anda melakukan training model. Dan data `test` akan anda gunakan ketika anda melakukan prediksi unseen data menggunakan model yang telah anda latih.\n",
        "\n",
        "*Ingat google colab juga menerima command berbasis linux.*"
      ]
    },
    {
      "cell_type": "markdown",
      "metadata": {
        "id": "UxLpoRM6i6SV"
      },
      "source": [
        "### 2. Data Preprocessing"
      ]
    },
    {
      "cell_type": "markdown",
      "metadata": {
        "id": "ZJHBci_m0vKy"
      },
      "source": [
        "Kita anggap dataset yang kita miliki merupakan dataset yang telah bersih dan siap digunakan untuk proses training model. Namun agar data yang kita miliki dapat diproses oleh model maka kita perlu melakukan sedikit proses augmentasi sederhana. \n",
        "\n",
        "**NOTE :** Penjelasan augmentasi secara detail akan dibahas pada modul selanjutnya. Disini kita akan mengunakan augmentasi sederhana saja seperti resize, flip dan rotation."
      ]
    },
    {
      "cell_type": "markdown",
      "metadata": {
        "id": "fxkE0duhmOt4"
      },
      "source": [
        "Lakukan proses agumentasi sederhana pada dataset anda menggunakan `ImageDataGenerator` dengan ketentuan melakukan proses seperti berikut :\n",
        "\n",
        "* Resize\n",
        "* Rescaling\n",
        "* Color Mode\n",
        "* Shuffle\n",
        "* Class Mode\n",
        "\n",
        "Terapkan semua proses diatas pada data `train, test dan validation`."
      ]
    },
    {
      "cell_type": "code",
      "metadata": {
        "id": "jYs-z52ULYoO"
      },
      "source": [
        "# TULIS KODE ANDA DISINI\n",
        "datagen = ImageDataGenerator(rescale=1./255)"
      ],
      "execution_count": 44,
      "outputs": []
    },
    {
      "cell_type": "code",
      "metadata": {
        "id": "Ga4Hz63e2bpl",
        "colab": {
          "base_uri": "https://localhost:8080/"
        },
        "outputId": "dbbe9379-79af-4523-9757-92d8243178ab"
      },
      "source": [
        "input_shape = (150, 150)\n",
        "\n",
        "train = '/content/drive/MyDrive/Dataset_Modul3/data/model_dataset/train'\n",
        "train_generator = datagen.flow_from_directory(train,\n",
        "                                              target_size=input_shape,\n",
        "                                              class_mode='categorical',\n",
        "                                              batch_size=32,\n",
        "                                              color_mode='rgb',\n",
        "                                              shuffle= True)\n",
        "\n",
        "validation = '/content/drive/MyDrive/Dataset_Modul3/data/model_dataset/val'\n",
        "validation_generator = datagen.flow_from_directory(validation,\n",
        "                                              target_size=input_shape,\n",
        "                                              class_mode='categorical',\n",
        "                                              batch_size=32,\n",
        "                                              color_mode='rgb',\n",
        "                                              shuffle= True)\n",
        "\n",
        "test = '/content/drive/MyDrive/Dataset_Modul3/data/model_dataset/test'\n",
        "test_generator = datagen.flow_from_directory(test,\n",
        "                                              target_size=input_shape,\n",
        "                                              batch_size=32,\n",
        "                                              color_mode='rgb',\n",
        "                                              shuffle= False)"
      ],
      "execution_count": 45,
      "outputs": [
        {
          "output_type": "stream",
          "name": "stdout",
          "text": [
            "Found 1749 images belonging to 3 classes.\n",
            "Found 218 images belonging to 3 classes.\n",
            "Found 221 images belonging to 3 classes.\n"
          ]
        }
      ]
    },
    {
      "cell_type": "markdown",
      "metadata": {
        "id": "iNr_kRbxyZYT"
      },
      "source": [
        "### 3. Definisikan Model CNN"
      ]
    },
    {
      "cell_type": "markdown",
      "metadata": {
        "id": "5I939-GX0qsZ"
      },
      "source": [
        "Bangun model CNN dan lakukan evaluasi sesuai kriteria **WAJIB** berikut:\n",
        "\n",
        "* Menerapkan proses Convolution \n",
        "* Menerapkan proses Pooling\n",
        "* Menerapkan Dropout\n",
        "* Menerpakan BatchNormalization\n",
        "* Evaluasi model menggunakan grafik loss dan accuracy\n",
        "* Evaluasi menggunakan classification report\n",
        "* Evaluasi menggunakan confusion matrix\n",
        "* Pastikan nilai akurasi model > 80%\n",
        "* Mendefinisikan minimal 100 epoch untuk masing-masing model\n",
        "* Melakukan prediksi minimal 15 gambar acak yang dapat mewakili seluruh kelas\n",
        "* Menampilkan input gambar yang di prediksi beserta label hasil prediksi, nilai akurasi prediksi, dan lama waktu prediksi dalam sebuah plot. (15 gambar ditampilkan dalam 1 plot)\n",
        "* Save model dalam file `json` dan simpan bobot dalam file `HDF5`\n",
        "* Pastikan model anda dapat memprediksi unseen data dengan benar."
      ]
    },
    {
      "cell_type": "code",
      "metadata": {
        "id": "xGjD1YlLStvP"
      },
      "source": [
        "from tensorflow.keras.models import Sequential, load_model\n",
        "from tensorflow.keras.layers import InputLayer, Dense, Conv2D, MaxPool2D, Flatten, BatchNormalization, Dropout, GlobalMaxPooling2D, BatchNormalization"
      ],
      "execution_count": 46,
      "outputs": []
    },
    {
      "cell_type": "code",
      "metadata": {
        "id": "_BwlkwcO2fpf"
      },
      "source": [
        "# TULIS KODE ANDA DISINI\n",
        "\n",
        "# Feature Extraction Layer\n",
        "model = Sequential()\n",
        "\n",
        "model.add(InputLayer(input_shape=[120,120,3]))\n",
        "model.add(Conv2D(filters=16, kernel_size=3, strides=1, padding='same', activation='relu'))\n",
        "model.add(MaxPool2D(pool_size=2, padding='same'))\n",
        "model.add(BatchNormalization())\n",
        "\n",
        "model.add(Conv2D(filters=32, kernel_size=3, strides=1, padding='same', activation='relu'))\n",
        "model.add(MaxPool2D(pool_size=2, padding='same'))\n",
        "model.add(BatchNormalization())\n",
        "\n",
        "model.add(Conv2D(filters=64, kernel_size=3, strides=1, padding='same', activation='relu'))\n",
        "model.add(MaxPool2D(pool_size=2, padding='same'))\n",
        "\n",
        "model.add(Dropout(0.2))\n",
        "model.add(GlobalMaxPooling2D())\n",
        "model.add(Flatten())"
      ],
      "execution_count": 47,
      "outputs": []
    },
    {
      "cell_type": "code",
      "metadata": {
        "id": "3eNtaPBqS1qj"
      },
      "source": [
        "# Fully Connected Layer\n",
        "model.add(Dense(128, activation='relu'))\n",
        "model.add(Dropout(0.25))\n",
        "model.add(Dense(3, activation='softmax'))"
      ],
      "execution_count": 48,
      "outputs": []
    },
    {
      "cell_type": "code",
      "metadata": {
        "colab": {
          "base_uri": "https://localhost:8080/"
        },
        "id": "VxYC7uarS5wZ",
        "outputId": "f87b507b-1a14-4468-cec5-f21c9c70ebcc"
      },
      "source": [
        "print(model.summary())"
      ],
      "execution_count": 49,
      "outputs": [
        {
          "output_type": "stream",
          "name": "stdout",
          "text": [
            "Model: \"sequential_1\"\n",
            "_________________________________________________________________\n",
            " Layer (type)                Output Shape              Param #   \n",
            "=================================================================\n",
            " conv2d_3 (Conv2D)           (None, 120, 120, 16)      448       \n",
            "                                                                 \n",
            " max_pooling2d_3 (MaxPooling  (None, 60, 60, 16)       0         \n",
            " 2D)                                                             \n",
            "                                                                 \n",
            " batch_normalization_2 (Batc  (None, 60, 60, 16)       64        \n",
            " hNormalization)                                                 \n",
            "                                                                 \n",
            " conv2d_4 (Conv2D)           (None, 60, 60, 32)        4640      \n",
            "                                                                 \n",
            " max_pooling2d_4 (MaxPooling  (None, 30, 30, 32)       0         \n",
            " 2D)                                                             \n",
            "                                                                 \n",
            " batch_normalization_3 (Batc  (None, 30, 30, 32)       128       \n",
            " hNormalization)                                                 \n",
            "                                                                 \n",
            " conv2d_5 (Conv2D)           (None, 30, 30, 64)        18496     \n",
            "                                                                 \n",
            " max_pooling2d_5 (MaxPooling  (None, 15, 15, 64)       0         \n",
            " 2D)                                                             \n",
            "                                                                 \n",
            " dropout_2 (Dropout)         (None, 15, 15, 64)        0         \n",
            "                                                                 \n",
            " global_max_pooling2d_1 (Glo  (None, 64)               0         \n",
            " balMaxPooling2D)                                                \n",
            "                                                                 \n",
            " flatten_1 (Flatten)         (None, 64)                0         \n",
            "                                                                 \n",
            " dense_2 (Dense)             (None, 128)               8320      \n",
            "                                                                 \n",
            " dropout_3 (Dropout)         (None, 128)               0         \n",
            "                                                                 \n",
            " dense_3 (Dense)             (None, 3)                 387       \n",
            "                                                                 \n",
            "=================================================================\n",
            "Total params: 32,483\n",
            "Trainable params: 32,387\n",
            "Non-trainable params: 96\n",
            "_________________________________________________________________\n",
            "None\n"
          ]
        }
      ]
    },
    {
      "cell_type": "code",
      "metadata": {
        "colab": {
          "base_uri": "https://localhost:8080/"
        },
        "id": "P7aJ54u9TBn3",
        "outputId": "c1428941-c51e-40b4-9dc2-a0c2f097603a"
      },
      "source": [
        "from tensorflow.keras.optimizers import Adam\n",
        "\n",
        "model.compile(optimizer=Adam(lr=0.001), \n",
        "              loss='categorical_crossentropy', \n",
        "              metrics=['acc'])"
      ],
      "execution_count": 50,
      "outputs": [
        {
          "output_type": "stream",
          "name": "stderr",
          "text": [
            "/usr/local/lib/python3.7/dist-packages/keras/optimizer_v2/adam.py:105: UserWarning: The `lr` argument is deprecated, use `learning_rate` instead.\n",
            "  super(Adam, self).__init__(name, **kwargs)\n"
          ]
        }
      ]
    },
    {
      "cell_type": "code",
      "metadata": {
        "colab": {
          "base_uri": "https://localhost:8080/"
        },
        "id": "4Gqq1jqxLitc",
        "outputId": "fb22d218-889a-4e62-c096-7881cb0c1680"
      },
      "source": [
        "H = model.fit_generator(train_generator, epochs = 100, validation_data = validation_generator)"
      ],
      "execution_count": 52,
      "outputs": [
        {
          "output_type": "stream",
          "name": "stderr",
          "text": [
            "/usr/local/lib/python3.7/dist-packages/ipykernel_launcher.py:1: UserWarning: `Model.fit_generator` is deprecated and will be removed in a future version. Please use `Model.fit`, which supports generators.\n",
            "  \"\"\"Entry point for launching an IPython kernel.\n"
          ]
        },
        {
          "output_type": "stream",
          "name": "stdout",
          "text": [
            "Epoch 1/100\n",
            "55/55 [==============================] - 10s 180ms/step - loss: 0.0034 - acc: 0.9989 - val_loss: 0.0049 - val_acc: 1.0000\n",
            "Epoch 2/100\n",
            "55/55 [==============================] - 10s 180ms/step - loss: 0.0072 - acc: 0.9977 - val_loss: 0.0466 - val_acc: 0.9862\n",
            "Epoch 3/100\n",
            "55/55 [==============================] - 10s 179ms/step - loss: 0.0072 - acc: 0.9966 - val_loss: 0.0237 - val_acc: 0.9908\n",
            "Epoch 4/100\n",
            "55/55 [==============================] - 10s 179ms/step - loss: 0.0034 - acc: 0.9989 - val_loss: 0.0169 - val_acc: 0.9908\n",
            "Epoch 5/100\n",
            "55/55 [==============================] - 10s 179ms/step - loss: 4.0756e-04 - acc: 1.0000 - val_loss: 0.0177 - val_acc: 0.9954\n",
            "Epoch 6/100\n",
            "55/55 [==============================] - 10s 179ms/step - loss: 1.5526e-04 - acc: 1.0000 - val_loss: 0.0253 - val_acc: 0.9908\n",
            "Epoch 7/100\n",
            "55/55 [==============================] - 10s 177ms/step - loss: 2.1260e-04 - acc: 1.0000 - val_loss: 0.0193 - val_acc: 0.9954\n",
            "Epoch 8/100\n",
            "55/55 [==============================] - 10s 179ms/step - loss: 2.4157e-04 - acc: 1.0000 - val_loss: 0.0263 - val_acc: 0.9908\n",
            "Epoch 9/100\n",
            "55/55 [==============================] - 10s 182ms/step - loss: 1.2229e-04 - acc: 1.0000 - val_loss: 0.0123 - val_acc: 0.9954\n",
            "Epoch 10/100\n",
            "55/55 [==============================] - 10s 181ms/step - loss: 2.3870e-04 - acc: 1.0000 - val_loss: 0.0207 - val_acc: 0.9954\n",
            "Epoch 11/100\n",
            "55/55 [==============================] - 10s 179ms/step - loss: 1.0280e-04 - acc: 1.0000 - val_loss: 0.0214 - val_acc: 0.9954\n",
            "Epoch 12/100\n",
            "55/55 [==============================] - 10s 179ms/step - loss: 8.9211e-05 - acc: 1.0000 - val_loss: 0.0200 - val_acc: 0.9954\n",
            "Epoch 13/100\n",
            "55/55 [==============================] - 10s 178ms/step - loss: 6.2902e-05 - acc: 1.0000 - val_loss: 0.0147 - val_acc: 0.9954\n",
            "Epoch 14/100\n",
            "55/55 [==============================] - 10s 179ms/step - loss: 1.5378e-04 - acc: 1.0000 - val_loss: 0.0121 - val_acc: 0.9954\n",
            "Epoch 15/100\n",
            "55/55 [==============================] - 10s 179ms/step - loss: 8.8073e-05 - acc: 1.0000 - val_loss: 0.0105 - val_acc: 0.9954\n",
            "Epoch 16/100\n",
            "55/55 [==============================] - 10s 178ms/step - loss: 1.0910e-04 - acc: 1.0000 - val_loss: 0.0161 - val_acc: 0.9954\n",
            "Epoch 17/100\n",
            "55/55 [==============================] - 10s 179ms/step - loss: 4.3958e-05 - acc: 1.0000 - val_loss: 0.0162 - val_acc: 0.9954\n",
            "Epoch 18/100\n",
            "55/55 [==============================] - 10s 179ms/step - loss: 4.5905e-05 - acc: 1.0000 - val_loss: 0.0144 - val_acc: 0.9954\n",
            "Epoch 19/100\n",
            "55/55 [==============================] - 10s 179ms/step - loss: 7.5621e-05 - acc: 1.0000 - val_loss: 0.0142 - val_acc: 0.9954\n",
            "Epoch 20/100\n",
            "55/55 [==============================] - 10s 180ms/step - loss: 1.5562e-04 - acc: 1.0000 - val_loss: 0.0084 - val_acc: 0.9954\n",
            "Epoch 21/100\n",
            "55/55 [==============================] - 10s 177ms/step - loss: 9.2213e-05 - acc: 1.0000 - val_loss: 0.0070 - val_acc: 1.0000\n",
            "Epoch 22/100\n",
            "55/55 [==============================] - 10s 179ms/step - loss: 1.3369e-04 - acc: 1.0000 - val_loss: 0.0285 - val_acc: 0.9908\n",
            "Epoch 23/100\n",
            "55/55 [==============================] - 10s 180ms/step - loss: 4.4655e-05 - acc: 1.0000 - val_loss: 0.0175 - val_acc: 0.9954\n",
            "Epoch 24/100\n",
            "55/55 [==============================] - 10s 178ms/step - loss: 1.3131e-05 - acc: 1.0000 - val_loss: 0.0132 - val_acc: 0.9954\n",
            "Epoch 25/100\n",
            "55/55 [==============================] - 10s 178ms/step - loss: 1.4329e-04 - acc: 1.0000 - val_loss: 0.0085 - val_acc: 0.9954\n",
            "Epoch 26/100\n",
            "55/55 [==============================] - 10s 178ms/step - loss: 4.0073e-05 - acc: 1.0000 - val_loss: 0.0055 - val_acc: 1.0000\n",
            "Epoch 27/100\n",
            "55/55 [==============================] - 10s 178ms/step - loss: 1.6895e-05 - acc: 1.0000 - val_loss: 0.0055 - val_acc: 1.0000\n",
            "Epoch 28/100\n",
            "55/55 [==============================] - 10s 182ms/step - loss: 1.3882e-05 - acc: 1.0000 - val_loss: 0.0057 - val_acc: 1.0000\n",
            "Epoch 29/100\n",
            "55/55 [==============================] - 10s 180ms/step - loss: 3.5256e-05 - acc: 1.0000 - val_loss: 0.0060 - val_acc: 1.0000\n",
            "Epoch 30/100\n",
            "55/55 [==============================] - 10s 179ms/step - loss: 9.3385e-06 - acc: 1.0000 - val_loss: 0.0065 - val_acc: 1.0000\n",
            "Epoch 31/100\n",
            "55/55 [==============================] - 10s 178ms/step - loss: 4.1880e-05 - acc: 1.0000 - val_loss: 0.0075 - val_acc: 0.9954\n",
            "Epoch 32/100\n",
            "55/55 [==============================] - 10s 179ms/step - loss: 2.1906e-05 - acc: 1.0000 - val_loss: 0.0069 - val_acc: 0.9954\n",
            "Epoch 33/100\n",
            "55/55 [==============================] - 10s 179ms/step - loss: 2.5839e-05 - acc: 1.0000 - val_loss: 0.0070 - val_acc: 0.9954\n",
            "Epoch 34/100\n",
            "55/55 [==============================] - 10s 177ms/step - loss: 1.3321e-05 - acc: 1.0000 - val_loss: 0.0079 - val_acc: 0.9954\n",
            "Epoch 35/100\n",
            "55/55 [==============================] - 10s 178ms/step - loss: 1.1758e-05 - acc: 1.0000 - val_loss: 0.0091 - val_acc: 0.9954\n",
            "Epoch 36/100\n",
            "55/55 [==============================] - 10s 177ms/step - loss: 8.8224e-06 - acc: 1.0000 - val_loss: 0.0091 - val_acc: 0.9954\n",
            "Epoch 37/100\n",
            "55/55 [==============================] - 10s 178ms/step - loss: 1.6240e-05 - acc: 1.0000 - val_loss: 0.0117 - val_acc: 0.9954\n",
            "Epoch 38/100\n",
            "55/55 [==============================] - 10s 178ms/step - loss: 5.2884e-06 - acc: 1.0000 - val_loss: 0.0118 - val_acc: 0.9954\n",
            "Epoch 39/100\n",
            "55/55 [==============================] - 10s 178ms/step - loss: 1.3773e-05 - acc: 1.0000 - val_loss: 0.0127 - val_acc: 0.9954\n",
            "Epoch 40/100\n",
            "55/55 [==============================] - 10s 179ms/step - loss: 7.6586e-06 - acc: 1.0000 - val_loss: 0.0129 - val_acc: 0.9954\n",
            "Epoch 41/100\n",
            "55/55 [==============================] - 10s 183ms/step - loss: 1.8601e-05 - acc: 1.0000 - val_loss: 0.0136 - val_acc: 0.9954\n",
            "Epoch 42/100\n",
            "55/55 [==============================] - 10s 178ms/step - loss: 5.2212e-06 - acc: 1.0000 - val_loss: 0.0143 - val_acc: 0.9954\n",
            "Epoch 43/100\n",
            "55/55 [==============================] - 10s 177ms/step - loss: 3.9547e-06 - acc: 1.0000 - val_loss: 0.0134 - val_acc: 0.9954\n",
            "Epoch 44/100\n",
            "55/55 [==============================] - 10s 176ms/step - loss: 7.7973e-06 - acc: 1.0000 - val_loss: 0.0137 - val_acc: 0.9954\n",
            "Epoch 45/100\n",
            "55/55 [==============================] - 10s 178ms/step - loss: 1.9167e-05 - acc: 1.0000 - val_loss: 0.0132 - val_acc: 0.9954\n",
            "Epoch 46/100\n",
            "55/55 [==============================] - 10s 177ms/step - loss: 3.0139e-05 - acc: 1.0000 - val_loss: 0.0195 - val_acc: 0.9908\n",
            "Epoch 47/100\n",
            "55/55 [==============================] - 10s 178ms/step - loss: 6.5188e-06 - acc: 1.0000 - val_loss: 0.0194 - val_acc: 0.9908\n",
            "Epoch 48/100\n",
            "55/55 [==============================] - 10s 179ms/step - loss: 2.0372e-05 - acc: 1.0000 - val_loss: 0.0108 - val_acc: 0.9954\n",
            "Epoch 49/100\n",
            "55/55 [==============================] - 10s 178ms/step - loss: 4.1623e-06 - acc: 1.0000 - val_loss: 0.0109 - val_acc: 0.9954\n",
            "Epoch 50/100\n",
            "55/55 [==============================] - 10s 178ms/step - loss: 0.0810 - acc: 0.9783 - val_loss: 0.1471 - val_acc: 0.9633\n",
            "Epoch 51/100\n",
            "55/55 [==============================] - 10s 179ms/step - loss: 0.0671 - acc: 0.9817 - val_loss: 0.0482 - val_acc: 0.9817\n",
            "Epoch 52/100\n",
            "55/55 [==============================] - 10s 179ms/step - loss: 0.0293 - acc: 0.9909 - val_loss: 0.0637 - val_acc: 0.9771\n",
            "Epoch 53/100\n",
            "55/55 [==============================] - 10s 180ms/step - loss: 0.0175 - acc: 0.9937 - val_loss: 0.0287 - val_acc: 0.9908\n",
            "Epoch 54/100\n",
            "55/55 [==============================] - 10s 182ms/step - loss: 0.0019 - acc: 1.0000 - val_loss: 0.0606 - val_acc: 0.9862\n",
            "Epoch 55/100\n",
            "55/55 [==============================] - 10s 181ms/step - loss: 0.0102 - acc: 0.9960 - val_loss: 0.0130 - val_acc: 0.9954\n",
            "Epoch 56/100\n",
            "55/55 [==============================] - 10s 179ms/step - loss: 0.0049 - acc: 0.9989 - val_loss: 0.0693 - val_acc: 0.9862\n",
            "Epoch 57/100\n",
            "55/55 [==============================] - 10s 180ms/step - loss: 9.6373e-04 - acc: 1.0000 - val_loss: 0.0300 - val_acc: 0.9908\n",
            "Epoch 58/100\n",
            "55/55 [==============================] - 10s 181ms/step - loss: 3.5425e-04 - acc: 1.0000 - val_loss: 0.0317 - val_acc: 0.9908\n",
            "Epoch 59/100\n",
            "55/55 [==============================] - 10s 181ms/step - loss: 9.1517e-05 - acc: 1.0000 - val_loss: 0.0296 - val_acc: 0.9908\n",
            "Epoch 60/100\n",
            "55/55 [==============================] - 10s 180ms/step - loss: 0.0016 - acc: 0.9994 - val_loss: 0.0592 - val_acc: 0.9862\n",
            "Epoch 61/100\n",
            "55/55 [==============================] - 10s 178ms/step - loss: 0.0210 - acc: 0.9937 - val_loss: 0.1106 - val_acc: 0.9679\n",
            "Epoch 62/100\n",
            "55/55 [==============================] - 10s 179ms/step - loss: 0.0062 - acc: 0.9977 - val_loss: 0.0519 - val_acc: 0.9817\n",
            "Epoch 63/100\n",
            "55/55 [==============================] - 10s 181ms/step - loss: 0.0142 - acc: 0.9966 - val_loss: 0.0537 - val_acc: 0.9862\n",
            "Epoch 64/100\n",
            "55/55 [==============================] - 10s 179ms/step - loss: 0.0136 - acc: 0.9954 - val_loss: 0.0248 - val_acc: 0.9954\n",
            "Epoch 65/100\n",
            "55/55 [==============================] - 10s 178ms/step - loss: 0.0033 - acc: 0.9989 - val_loss: 0.0316 - val_acc: 0.9908\n",
            "Epoch 66/100\n",
            "55/55 [==============================] - 10s 178ms/step - loss: 2.6888e-04 - acc: 1.0000 - val_loss: 0.0211 - val_acc: 0.9908\n",
            "Epoch 67/100\n",
            "55/55 [==============================] - 10s 179ms/step - loss: 0.0046 - acc: 0.9983 - val_loss: 0.0278 - val_acc: 0.9862\n",
            "Epoch 68/100\n",
            "55/55 [==============================] - 10s 178ms/step - loss: 4.9348e-04 - acc: 1.0000 - val_loss: 0.0461 - val_acc: 0.9862\n",
            "Epoch 69/100\n",
            "55/55 [==============================] - 10s 181ms/step - loss: 6.1219e-04 - acc: 1.0000 - val_loss: 0.0240 - val_acc: 0.9908\n",
            "Epoch 70/100\n",
            "55/55 [==============================] - 10s 179ms/step - loss: 1.3691e-04 - acc: 1.0000 - val_loss: 0.0229 - val_acc: 0.9908\n",
            "Epoch 71/100\n",
            "55/55 [==============================] - 10s 179ms/step - loss: 4.9714e-05 - acc: 1.0000 - val_loss: 0.0231 - val_acc: 0.9908\n",
            "Epoch 72/100\n",
            "55/55 [==============================] - 10s 184ms/step - loss: 2.0233e-04 - acc: 1.0000 - val_loss: 0.0263 - val_acc: 0.9908\n",
            "Epoch 73/100\n",
            "55/55 [==============================] - 10s 179ms/step - loss: 1.1839e-04 - acc: 1.0000 - val_loss: 0.0232 - val_acc: 0.9908\n",
            "Epoch 74/100\n",
            "55/55 [==============================] - 10s 178ms/step - loss: 9.9023e-04 - acc: 0.9994 - val_loss: 0.0335 - val_acc: 0.9908\n",
            "Epoch 75/100\n",
            "55/55 [==============================] - 10s 178ms/step - loss: 7.6780e-04 - acc: 0.9994 - val_loss: 0.0238 - val_acc: 0.9908\n",
            "Epoch 76/100\n",
            "55/55 [==============================] - 10s 178ms/step - loss: 9.7681e-04 - acc: 1.0000 - val_loss: 0.0384 - val_acc: 0.9908\n",
            "Epoch 77/100\n",
            "55/55 [==============================] - 10s 179ms/step - loss: 2.6759e-04 - acc: 1.0000 - val_loss: 0.0332 - val_acc: 0.9908\n",
            "Epoch 78/100\n",
            "55/55 [==============================] - 10s 179ms/step - loss: 2.3256e-04 - acc: 1.0000 - val_loss: 0.0410 - val_acc: 0.9862\n",
            "Epoch 79/100\n",
            "55/55 [==============================] - 10s 179ms/step - loss: 5.6266e-05 - acc: 1.0000 - val_loss: 0.0383 - val_acc: 0.9862\n",
            "Epoch 80/100\n",
            "55/55 [==============================] - 10s 178ms/step - loss: 1.2874e-04 - acc: 1.0000 - val_loss: 0.0412 - val_acc: 0.9862\n",
            "Epoch 81/100\n",
            "55/55 [==============================] - 10s 178ms/step - loss: 2.2789e-05 - acc: 1.0000 - val_loss: 0.0426 - val_acc: 0.9862\n",
            "Epoch 82/100\n",
            "55/55 [==============================] - 10s 178ms/step - loss: 7.5683e-05 - acc: 1.0000 - val_loss: 0.0402 - val_acc: 0.9862\n",
            "Epoch 83/100\n",
            "55/55 [==============================] - 10s 178ms/step - loss: 2.4266e-05 - acc: 1.0000 - val_loss: 0.0399 - val_acc: 0.9862\n",
            "Epoch 84/100\n",
            "55/55 [==============================] - 10s 180ms/step - loss: 2.2080e-04 - acc: 1.0000 - val_loss: 0.0461 - val_acc: 0.9908\n",
            "Epoch 85/100\n",
            "55/55 [==============================] - 10s 180ms/step - loss: 8.4694e-05 - acc: 1.0000 - val_loss: 0.0568 - val_acc: 0.9862\n",
            "Epoch 86/100\n",
            "55/55 [==============================] - 10s 180ms/step - loss: 7.6670e-04 - acc: 1.0000 - val_loss: 0.0183 - val_acc: 0.9862\n",
            "Epoch 87/100\n",
            "55/55 [==============================] - 10s 180ms/step - loss: 3.1710e-04 - acc: 1.0000 - val_loss: 0.0310 - val_acc: 0.9908\n",
            "Epoch 88/100\n",
            "55/55 [==============================] - 10s 181ms/step - loss: 1.1966e-04 - acc: 1.0000 - val_loss: 0.0289 - val_acc: 0.9954\n",
            "Epoch 89/100\n",
            "55/55 [==============================] - 10s 182ms/step - loss: 8.5179e-05 - acc: 1.0000 - val_loss: 0.0382 - val_acc: 0.9862\n",
            "Epoch 90/100\n",
            "55/55 [==============================] - 10s 182ms/step - loss: 5.3652e-05 - acc: 1.0000 - val_loss: 0.0355 - val_acc: 0.9908\n",
            "Epoch 91/100\n",
            "55/55 [==============================] - 10s 182ms/step - loss: 2.0155e-05 - acc: 1.0000 - val_loss: 0.0219 - val_acc: 0.9954\n",
            "Epoch 92/100\n",
            "55/55 [==============================] - 10s 179ms/step - loss: 4.2757e-05 - acc: 1.0000 - val_loss: 0.0244 - val_acc: 0.9954\n",
            "Epoch 93/100\n",
            "55/55 [==============================] - 10s 179ms/step - loss: 2.0673e-05 - acc: 1.0000 - val_loss: 0.0253 - val_acc: 0.9954\n",
            "Epoch 94/100\n",
            "55/55 [==============================] - 10s 179ms/step - loss: 6.7659e-06 - acc: 1.0000 - val_loss: 0.0261 - val_acc: 0.9954\n",
            "Epoch 95/100\n",
            "55/55 [==============================] - 10s 178ms/step - loss: 5.0214e-05 - acc: 1.0000 - val_loss: 0.0284 - val_acc: 0.9954\n",
            "Epoch 96/100\n",
            "55/55 [==============================] - 10s 179ms/step - loss: 2.4975e-05 - acc: 1.0000 - val_loss: 0.0327 - val_acc: 0.9954\n",
            "Epoch 97/100\n",
            "55/55 [==============================] - 10s 180ms/step - loss: 1.6303e-04 - acc: 1.0000 - val_loss: 0.0298 - val_acc: 0.9954\n",
            "Epoch 98/100\n",
            "55/55 [==============================] - 10s 180ms/step - loss: 5.1276e-05 - acc: 1.0000 - val_loss: 0.0555 - val_acc: 0.9908\n",
            "Epoch 99/100\n",
            "55/55 [==============================] - 10s 180ms/step - loss: 2.4970e-05 - acc: 1.0000 - val_loss: 0.0579 - val_acc: 0.9908\n",
            "Epoch 100/100\n",
            "55/55 [==============================] - 10s 180ms/step - loss: 2.3428e-05 - acc: 1.0000 - val_loss: 0.0538 - val_acc: 0.9908\n"
          ]
        }
      ]
    },
    {
      "cell_type": "code",
      "metadata": {
        "colab": {
          "base_uri": "https://localhost:8080/",
          "height": 298
        },
        "id": "iykVW-bzRFPE",
        "outputId": "0895a769-4bd0-4646-dcec-dc225fbae34f"
      },
      "source": [
        "%matplotlib inline\n",
        "import numpy as np\n",
        "import matplotlib.pyplot as plt\n",
        "\n",
        "plt.style.use(\"ggplot\")\n",
        "plt.figure()\n",
        "plt.plot(np.arange(0, 100), H.history[\"loss\"], label=\"train_loss\")\n",
        "plt.plot(np.arange(0, 100), H.history[\"val_loss\"], label=\"val_loss\")\n",
        "plt.title(\"Loss Plot\")\n",
        "plt.xlabel(\"Epoch #\")\n",
        "plt.ylabel(\"Loss\")\n",
        "plt.legend()\n",
        "plt.show()"
      ],
      "execution_count": 54,
      "outputs": [
        {
          "output_type": "display_data",
          "data": {
            "image/png": "[encoded data removed]",
            "text/plain": [
              "<Figure size 432x288 with 1 Axes>"
            ]
          },
          "metadata": {}
        }
      ]
    },
    {
      "cell_type": "code",
      "metadata": {
        "colab": {
          "base_uri": "https://localhost:8080/",
          "height": 298
        },
        "id": "vWbJRB6NRFKb",
        "outputId": "0a9bdacb-a574-42ad-c68f-e79dd2c9a4a8"
      },
      "source": [
        "plt.style.use(\"ggplot\")\n",
        "plt.figure()\n",
        "plt.plot(np.arange(0, 100), H.history[\"acc\"], label=\"train_acc\")\n",
        "plt.plot(np.arange(0, 100), H.history[\"val_acc\"], label=\"val_acc\")\n",
        "plt.title(\"Accuracy Plot\")\n",
        "plt.xlabel(\"Epoch #\")\n",
        "plt.ylabel(\"Acc\")\n",
        "plt.legend()\n",
        "plt.show()"
      ],
      "execution_count": 30,
      "outputs": [
        {
          "output_type": "display_data",
          "data": {
            "image/png": "[encoded data removed]",
            "text/plain": [
              "<Figure size 432x288 with 1 Axes>"
            ]
          },
          "metadata": {}
        }
      ]
    },
    {
      "cell_type": "code",
      "metadata": {
        "colab": {
          "base_uri": "https://localhost:8080/"
        },
        "id": "N4-sC4c1RE-t",
        "outputId": "5ba0593e-81b8-487c-a61f-b3e936e81d97"
      },
      "source": [
        "%time\n",
        "model_score = model.evaluate_generator(validation_generator,steps=100)\n",
        "print(\"Model Test Loss:\",model_score[0])\n",
        "print(\"Model Test Accuracy:\",model_score[1])"
      ],
      "execution_count": 55,
      "outputs": [
        {
          "output_type": "stream",
          "name": "stdout",
          "text": [
            "CPU times: user 10 µs, sys: 0 ns, total: 10 µs\n",
            "Wall time: 15.5 µs\n"
          ]
        },
        {
          "output_type": "stream",
          "name": "stderr",
          "text": [
            "/usr/local/lib/python3.7/dist-packages/ipykernel_launcher.py:2: UserWarning: `Model.evaluate_generator` is deprecated and will be removed in a future version. Please use `Model.evaluate`, which supports generators.\n",
            "  \n"
          ]
        },
        {
          "output_type": "stream",
          "name": "stdout",
          "text": [
            "WARNING:tensorflow:Your input ran out of data; interrupting training. Make sure that your dataset or generator can generate at least `steps_per_epoch * epochs` batches (in this case, 100 batches). You may need to use the repeat() function when building your dataset.\n",
            "Model Test Loss: 0.05384247004985809\n",
            "Model Test Accuracy: 0.9908257126808167\n"
          ]
        }
      ]
    },
    {
      "cell_type": "code",
      "metadata": {
        "colab": {
          "base_uri": "https://localhost:8080/",
          "height": 491
        },
        "id": "LhDJzIJwcaCE",
        "outputId": "8f13d8e6-31a0-4e71-81d0-d2d09455801b"
      },
      "source": [
        "from tensorflow.keras.models import Sequential, load_model\n",
        "from tensorflow.keras.layers import InputLayer, Dense, Conv2D, MaxPool2D, Flatten, BatchNormalization, Dropout, GlobalMaxPooling2D, BatchNormalization\n",
        "from PIL import Image\n",
        "import cv2\n",
        "\n",
        "img_upload = Image.open(\"/content/drive/MyDrive/Dataset_Modul3/test/paper/1Frbe8cdOdkciOBg.png\")\n",
        "img_plt = plt.imshow(img_upload)\n",
        "img = np.array(img_upload)\n",
        "img = cv2.cvtColor(np.array(img), cv2.COLOR_BGR2RGB)\n",
        "\n",
        "labels = ['paper', 'rock', 'scissors']\n",
        "\n",
        "size_img = model.layers[0].output_shape[1:3]\n",
        "imgs = cv2.resize(img, size_img)\n",
        "imgs = imgs.astype('float32') / 255\n",
        "pred = model.predict(np.expand_dims(imgs, axis=0))[0]\n",
        "print('Model :', model.split('/')[-1])\n",
        "print('Predicted Label :',labels[((pred > 0.5)+0).ravel()[0]])\n",
        "print('Probability :',[ round(elem, 4) for elem in pred ][0])\n",
        "print('===============\\n')"
      ],
      "execution_count": 57,
      "outputs": [
        {
          "output_type": "error",
          "ename": "AttributeError",
          "evalue": "ignored",
          "traceback": [
            "\u001b[0;31m---------------------------------------------------------------------------\u001b[0m",
            "\u001b[0;31mAttributeError\u001b[0m                            Traceback (most recent call last)",
            "\u001b[0;32m<ipython-input-57-eec52c53473f>\u001b[0m in \u001b[0;36m<module>\u001b[0;34m()\u001b[0m\n\u001b[1;32m     15\u001b[0m \u001b[0mimgs\u001b[0m \u001b[0;34m=\u001b[0m \u001b[0mimgs\u001b[0m\u001b[0;34m.\u001b[0m\u001b[0mastype\u001b[0m\u001b[0;34m(\u001b[0m\u001b[0;34m'float32'\u001b[0m\u001b[0;34m)\u001b[0m \u001b[0;34m/\u001b[0m \u001b[0;36m255\u001b[0m\u001b[0;34m\u001b[0m\u001b[0;34m\u001b[0m\u001b[0m\n\u001b[1;32m     16\u001b[0m \u001b[0mpred\u001b[0m \u001b[0;34m=\u001b[0m \u001b[0mmodel\u001b[0m\u001b[0;34m.\u001b[0m\u001b[0mpredict\u001b[0m\u001b[0;34m(\u001b[0m\u001b[0mnp\u001b[0m\u001b[0;34m.\u001b[0m\u001b[0mexpand_dims\u001b[0m\u001b[0;34m(\u001b[0m\u001b[0mimgs\u001b[0m\u001b[0;34m,\u001b[0m \u001b[0maxis\u001b[0m\u001b[0;34m=\u001b[0m\u001b[0;36m0\u001b[0m\u001b[0;34m)\u001b[0m\u001b[0;34m)\u001b[0m\u001b[0;34m[\u001b[0m\u001b[0;36m0\u001b[0m\u001b[0;34m]\u001b[0m\u001b[0;34m\u001b[0m\u001b[0;34m\u001b[0m\u001b[0m\n\u001b[0;32m---> 17\u001b[0;31m \u001b[0mprint\u001b[0m\u001b[0;34m(\u001b[0m\u001b[0;34m'Model :'\u001b[0m\u001b[0;34m,\u001b[0m \u001b[0mmodel\u001b[0m\u001b[0;34m.\u001b[0m\u001b[0msplit\u001b[0m\u001b[0;34m(\u001b[0m\u001b[0;34m'/'\u001b[0m\u001b[0;34m)\u001b[0m\u001b[0;34m[\u001b[0m\u001b[0;34m-\u001b[0m\u001b[0;36m1\u001b[0m\u001b[0;34m]\u001b[0m\u001b[0;34m)\u001b[0m\u001b[0;34m\u001b[0m\u001b[0;34m\u001b[0m\u001b[0m\n\u001b[0m\u001b[1;32m     18\u001b[0m \u001b[0mprint\u001b[0m\u001b[0;34m(\u001b[0m\u001b[0;34m'Predicted Label :'\u001b[0m\u001b[0;34m,\u001b[0m\u001b[0mlabels\u001b[0m\u001b[0;34m[\u001b[0m\u001b[0;34m(\u001b[0m\u001b[0;34m(\u001b[0m\u001b[0mpred\u001b[0m \u001b[0;34m>\u001b[0m \u001b[0;36m0.5\u001b[0m\u001b[0;34m)\u001b[0m\u001b[0;34m+\u001b[0m\u001b[0;36m0\u001b[0m\u001b[0;34m)\u001b[0m\u001b[0;34m.\u001b[0m\u001b[0mravel\u001b[0m\u001b[0;34m(\u001b[0m\u001b[0;34m)\u001b[0m\u001b[0;34m[\u001b[0m\u001b[0;36m0\u001b[0m\u001b[0;34m]\u001b[0m\u001b[0;34m]\u001b[0m\u001b[0;34m)\u001b[0m\u001b[0;34m\u001b[0m\u001b[0;34m\u001b[0m\u001b[0m\n\u001b[1;32m     19\u001b[0m \u001b[0mprint\u001b[0m\u001b[0;34m(\u001b[0m\u001b[0;34m'Probability :'\u001b[0m\u001b[0;34m,\u001b[0m\u001b[0;34m[\u001b[0m \u001b[0mround\u001b[0m\u001b[0;34m(\u001b[0m\u001b[0melem\u001b[0m\u001b[0;34m,\u001b[0m \u001b[0;36m4\u001b[0m\u001b[0;34m)\u001b[0m \u001b[0;32mfor\u001b[0m \u001b[0melem\u001b[0m \u001b[0;32min\u001b[0m \u001b[0mpred\u001b[0m \u001b[0;34m]\u001b[0m\u001b[0;34m[\u001b[0m\u001b[0;36m0\u001b[0m\u001b[0;34m]\u001b[0m\u001b[0;34m)\u001b[0m\u001b[0;34m\u001b[0m\u001b[0;34m\u001b[0m\u001b[0m\n",
            "\u001b[0;31mAttributeError\u001b[0m: 'Sequential' object has no attribute 'split'"
          ]
        },
        {
          "output_type": "display_data",
          "data": {
            "image/png": "[encoded data removed]",
            "text/plain": [
              "<Figure size 432x288 with 1 Axes>"
            ]
          },
          "metadata": {}
        }
      ]
    },
    {
      "cell_type": "markdown",
      "metadata": {
        "id": "-zzfYOy8U4TX"
      },
      "source": [
        "## Kegiatan 2 **(berkelompok)**\n",
        "30 poin"
      ]
    },
    {
      "cell_type": "markdown",
      "metadata": {
        "id": "OuUCK4qcEp97"
      },
      "source": [
        "**Ketentuan Wajib**\n",
        "* Tulis dokumentasi tugas kelompok anda dalam file README.md\n",
        "* Cek daftar dataset seluruh praktikan [disini](https://docs.google.com/spreadsheets/d/1qyu5AVDhPhegpRTbNaDoq5qXX4_CX09Q7tYyD-fkF_c/edit?usp=sharing)\n",
        "* Seluruh data dan progress pengerjaan tugas kelompok harus berada dalam github repository sebelum praktikum dimulai\n",
        "* Tidak diperbolehkan berganti anggota kelompok selama satu semester ini\n",
        "* Tidak diperbolehkan berganti repository selama mengerjakan tugas kelompok ini\n",
        "* **Tidak diperbolehkan berganti dataset atau jurnal rujukan**\n",
        "* Pastikan anda menggunakan akun github pribadi untuk melakukan commit dan push\n",
        "\n",
        "**Penilaian**\n",
        "* Keaktifan dalam tim\n",
        "* Kontribusi dalam proyek dan tim\n",
        "* Penerapan prinsip kerja Agile (sprint backlog dan report terdokumentasikan dengan baik)\n",
        "* Progress pengerjaan tugas kelompok\n",
        "* Pemahaman masing-masing anggota tim terhadap tugas yang dikerjakan\n",
        "* Pendokumentasian proyek \"clear and clean documentation\"\n",
        "\n",
        "**Materi pendukung**\n",
        "* [Project documentation](https://realpython.com/documenting-python-code)\n",
        "* [Github readme](https://docs.github.com/en/github/writing-on-github/getting-started-with-writing-and-formatting-on-github/basic-writing-and-formatting-syntax)\n",
        "* [Sprint backlog](https://www.lucidchart.com/blog/how-to-develop-a-product-backlog-in-agile)"
      ]
    },
    {
      "cell_type": "markdown",
      "metadata": {
        "id": "u8-XbSmMp0NT"
      },
      "source": [
        "**Tugas**\n",
        "\n",
        "Melanjutkan tugas kelompok di modul 1 & 2 sekarang kerjakan beberapa poin berikut untuk didemokan kepada asisten masing-masing.\n",
        "\n",
        "*   Melakukan proses preprocessing dataset dengan ketentuan:\n",
        " * augmentasi data menggunakan ImageDataGenerator\n",
        " * splitting dataset menjadi (75% train, 14% validation, 1% test)\n",
        "*   Melakukan training beberapa skema model menggunakan model CNN sederhana buatan sendiri **(minimal 2 model)** *tidak diperbolehkan menggunakan transfer learning* \n",
        " * Menerapkan proses Convolution\n",
        " * Menerapkan proses Pooling\n",
        " * Menerapkan Dropout\n",
        " * Menerpakan BatchNormalization\n",
        " * Model dengan beberapa variasi learning rate\n",
        " * Minimal 100 epoch per model\n",
        "* Menyimpan model yang telah di training kedalam file `.h5` [Lihat disini](https://www.tensorflow.org/tutorials/keras/save_and_load)\n",
        "*  Mencatat hasil perkembangan tugas kelompok dalam file `sprint_project.xlsx` tandai masing-masing task dengan status **Done** *untuk task yang telah selesai dikerjakan*, **On Going** *untuk task yang dalam proses pengerjaan*, **Waiting** *untuk task yang belum atau akan dikerjakan*\n",
        "* Pastikan anda menulis tanggal mulai dan tanggal selesai masing-masing task dengan benar\n",
        "* Pastikan anda menulis penanggung jawab masing-masing task (Penanggung jawab bertugas menyelesaikan dan menuntaskan masing-masing task yang diberikan)\n",
        "* `commit` dan `push` seluruh perkerjaan yang anda lakukan kedalam branch pribadi dalam repository tugas kelompok yang telah anda buat sebelumnya.\n",
        "* Presentasikan kepada asisten tentang apa yang anda lakukakan selama mengerjakan tugas kelompok ini. Ceritakan tentang tugas masing-masing anggota,  kendala dalam mengerjakan tugas sampai solusi yang anda lakukan saat mengerjakan tugas kelompok ini.\n",
        "\n"
      ]
    }
  ]
}