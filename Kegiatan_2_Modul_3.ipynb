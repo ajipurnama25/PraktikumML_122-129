{
  "nbformat": 4,
  "nbformat_minor": 0,
  "metadata": {
    "colab": {
      "name": "Kegiatan 2 Modul 3.ipynb",
      "provenance": []
    },
    "kernelspec": {
      "name": "python3",
      "display_name": "Python 3"
    },
    "language_info": {
      "name": "python"
    },
    "accelerator": "GPU"
  },
  "cells": [
    {
      "cell_type": "code",
      "metadata": {
        "id": "LZDpo8JGN-9v"
      },
      "source": [
        "#import library \n",
        "import pandas as pd\n",
        "import numpy as np\n",
        "import os, cv2, shutil\n",
        "import numpy as np\n",
        "import matplotlib.pyplot as plt\n",
        "import matplotlib.image as mpimg\n",
        "%matplotlib inline\n",
        "from sklearn.model_selection import train_test_split\n",
        "from sklearn.metrics import classification_report, confusion_matrix\n",
        "from tensorflow.keras.preprocessing.image import ImageDataGenerator\n",
        "from tensorflow.keras.models import Sequential\n",
        "from tensorflow.keras.layers import InputLayer, Dense, Conv2D, MaxPool2D, Flatten,BatchNormalization, Dropout\n",
        "from tensorflow.keras.optimizers import Adam\n",
        "from google.colab import files\n",
        "from keras.preprocessing import image"
      ],
      "execution_count": 1,
      "outputs": []
    },
    {
      "cell_type": "code",
      "metadata": {
        "colab": {
          "base_uri": "https://localhost:8080/"
        },
        "id": "EjyFshM2OKJ5",
        "outputId": "38a6a2db-58a7-401a-f824-f3a7982490b8"
      },
      "source": [
        "from google.colab import drive\n",
        "drive.mount('/content/drive')"
      ],
      "execution_count": 2,
      "outputs": [
        {
          "output_type": "stream",
          "name": "stdout",
          "text": [
            "Mounted at /content/drive\n"
          ]
        }
      ]
    },
    {
      "cell_type": "code",
      "metadata": {
        "id": "sHaPff-HOKMj"
      },
      "source": [
        "# Definisikan path kaggle json\n",
        "# Sesuaikan dengan path anda\n",
        "import os\n",
        "os.environ['KAGGLE_CONFIG_DIR'] = \"/content/drive/My Drive/dataset_tugas2\""
      ],
      "execution_count": 3,
      "outputs": []
    },
    {
      "cell_type": "code",
      "metadata": {
        "colab": {
          "base_uri": "https://localhost:8080/"
        },
        "id": "nj5_q2LoOKOn",
        "outputId": "476d688e-4d58-46dc-b477-406ac3994902"
      },
      "source": [
        "# Ubah lokasi direktori kerja\n",
        "# Sesuaikan dengan path anda\n",
        "%cd /content/drive/My Drive/dataset_tugas2"
      ],
      "execution_count": 3,
      "outputs": [
        {
          "output_type": "stream",
          "name": "stdout",
          "text": [
            "/content/drive/My Drive/dataset_tugas2\n"
          ]
        }
      ]
    },
    {
      "cell_type": "code",
      "metadata": {
        "colab": {
          "base_uri": "https://localhost:8080/"
        },
        "id": "1O8GEUFWOKQw",
        "outputId": "0796d01a-7c95-41d2-ad47-07453c5c2136"
      },
      "source": [
        "# Cek apakah api sudah terbaca oleh sistem\n",
        "!ls  "
      ],
      "execution_count": 4,
      "outputs": [
        {
          "output_type": "stream",
          "name": "stdout",
          "text": [
            "Dataset  kaggle.json  rice_leaf_diseases\n"
          ]
        }
      ]
    },
    {
      "cell_type": "code",
      "metadata": {
        "colab": {
          "base_uri": "https://localhost:8080/"
        },
        "id": "GRAkOfL_OKTK",
        "outputId": "46c8f5d8-6c44-4cac-acfc-4f2c60273d3a"
      },
      "source": [
        "!kaggle datasets download -d vbookshelf/rice-leaf-diseases"
      ],
      "execution_count": 6,
      "outputs": [
        {
          "output_type": "stream",
          "name": "stdout",
          "text": [
            "Downloading rice-leaf-diseases.zip to /content/drive/My Drive/dataset_tugas2\n",
            " 87% 32.0M/36.7M [00:01<00:00, 17.5MB/s]\n",
            "100% 36.7M/36.7M [00:01<00:00, 20.6MB/s]\n"
          ]
        }
      ]
    },
    {
      "cell_type": "code",
      "metadata": {
        "colab": {
          "base_uri": "https://localhost:8080/"
        },
        "id": "DNpvw5MXOKWu",
        "outputId": "04257ffd-c135-4b83-cfea-071fe5e4f2a6"
      },
      "source": [
        "# Cek isi direktori kerja dan memastikan dataset telah berhasil didownload.\n",
        "!ls"
      ],
      "execution_count": 7,
      "outputs": [
        {
          "output_type": "stream",
          "name": "stdout",
          "text": [
            "kaggle.json  rice-leaf-diseases.zip\n"
          ]
        }
      ]
    },
    {
      "cell_type": "code",
      "metadata": {
        "id": "X7r3e8U_OKYu"
      },
      "source": [
        "# Ekstrak file dataset dan hapus file zip dataset agar tidak memakan banyak tempat.\n",
        "!unzip \\*.zip &> /dev/null && rm *.zip"
      ],
      "execution_count": 8,
      "outputs": []
    },
    {
      "cell_type": "code",
      "metadata": {
        "colab": {
          "base_uri": "https://localhost:8080/"
        },
        "id": "IaL2k9R7OV7M",
        "outputId": "6ec7352c-116d-4a22-bb1d-2f281bfd0985"
      },
      "source": [
        "!ls"
      ],
      "execution_count": 16,
      "outputs": [
        {
          "output_type": "stream",
          "name": "stdout",
          "text": [
            "Dataset  kaggle.json  rice_leaf_diseases\n"
          ]
        }
      ]
    },
    {
      "cell_type": "code",
      "metadata": {
        "id": "QiyVRQgaOV4L"
      },
      "source": [
        "os.makedirs('/content/drive/My Drive/dataset_tugas2/Dataset')"
      ],
      "execution_count": null,
      "outputs": []
    },
    {
      "cell_type": "code",
      "metadata": {
        "colab": {
          "base_uri": "https://localhost:8080/"
        },
        "id": "edtEc5TZmHOs",
        "outputId": "48be6109-c586-4894-e436-6b5bc6ebf2c3"
      },
      "source": [
        "!pip install split-folders"
      ],
      "execution_count": 6,
      "outputs": [
        {
          "output_type": "stream",
          "name": "stdout",
          "text": [
            "Collecting split-folders\n",
            "  Downloading split_folders-0.4.3-py3-none-any.whl (7.4 kB)\n",
            "Installing collected packages: split-folders\n",
            "Successfully installed split-folders-0.4.3\n"
          ]
        }
      ]
    },
    {
      "cell_type": "code",
      "metadata": {
        "colab": {
          "base_uri": "https://localhost:8080/"
        },
        "id": "ZuZlHY70eyCG",
        "outputId": "8e03e583-64a6-42f4-bb0b-76f071e54f41"
      },
      "source": [
        "import splitfolders\n",
        "\n",
        "\n",
        "base_dir = '/content/drive/MyDrive/dataset_tugas2/rice_leaf_diseases'\n",
        "data_dir = '/content/drive/My Drive/dataset_tugas2/Dataset'\n",
        "\n",
        "splitfolders.ratio(base_dir, output=data_dir, seed=1337, ratio=(.8, .19, .01),group_prefix=None)"
      ],
      "execution_count": 10,
      "outputs": [
        {
          "output_type": "stream",
          "name": "stderr",
          "text": [
            "Copying files: 120 files [00:29,  4.00 files/s]\n"
          ]
        }
      ]
    },
    {
      "cell_type": "code",
      "metadata": {
        "id": "pLeQ_8f-nNES"
      },
      "source": [
        "# TULIS KODE ANDA DISINI\n",
        "datagen = ImageDataGenerator(rescale=1./255)"
      ],
      "execution_count": 11,
      "outputs": []
    },
    {
      "cell_type": "code",
      "metadata": {
        "colab": {
          "base_uri": "https://localhost:8080/"
        },
        "id": "e3ZN_BKbnNPd",
        "outputId": "085d03a3-d6f6-4183-cf3a-5d2d89974470"
      },
      "source": [
        "input_shape = (150, 150)\n",
        "\n",
        "train = '/content/drive/MyDrive/dataset_tugas2/Dataset/train'\n",
        "train_generator = datagen.flow_from_directory(train,\n",
        "                                              target_size=input_shape,\n",
        "                                              class_mode='categorical',\n",
        "                                              batch_size=32,\n",
        "                                              color_mode='rgb',\n",
        "                                              shuffle= True)\n",
        "\n",
        "validation = '/content/drive/MyDrive/dataset_tugas2/Dataset/val'\n",
        "validation_generator = datagen.flow_from_directory(validation,\n",
        "                                              target_size=input_shape,\n",
        "                                              class_mode='categorical',\n",
        "                                              batch_size=32,\n",
        "                                              color_mode='rgb',\n",
        "                                              shuffle= True)\n",
        "\n",
        "test = '/content/drive/MyDrive/dataset_tugas2/Dataset/test'\n",
        "test_generator = datagen.flow_from_directory(test,\n",
        "                                              target_size=input_shape,\n",
        "                                              batch_size=32,\n",
        "                                              color_mode='rgb',\n",
        "                                              shuffle= False)"
      ],
      "execution_count": 12,
      "outputs": [
        {
          "output_type": "stream",
          "name": "stdout",
          "text": [
            "Found 96 images belonging to 3 classes.\n",
            "Found 21 images belonging to 3 classes.\n",
            "Found 3 images belonging to 3 classes.\n"
          ]
        }
      ]
    },
    {
      "cell_type": "code",
      "metadata": {
        "id": "dQw8Wq9ZnuYS"
      },
      "source": [
        "from tensorflow.keras.models import Sequential, load_model\n",
        "from tensorflow.keras.layers import InputLayer, Dense, Conv2D, MaxPool2D, Flatten, BatchNormalization, Dropout, GlobalMaxPooling2D, BatchNormalization"
      ],
      "execution_count": 38,
      "outputs": []
    },
    {
      "cell_type": "code",
      "metadata": {
        "id": "8Ev5dHHWnxEk"
      },
      "source": [
        "# Model building\n",
        "#Instatiating A convnet\n",
        "\n",
        "model = Sequential()\n",
        "model.add(Conv2D(16, (3,3), input_shape=(150,150,3), activation=\"relu\"))\n",
        "model.add(MaxPool2D(pool_size = (2,2)))\n",
        "model.add(BatchNormalization())\n",
        "\n",
        "model.add(Conv2D(32, (3,3), activation=\"relu\"))\n",
        "model.add(MaxPool2D(pool_size = (2,2)))\n",
        "model.add(BatchNormalization())\n",
        "\n",
        "model.add(Conv2D(64, (3,3), activation=\"relu\"))\n",
        "model.add(MaxPool2D(pool_size = (2,2)))\n",
        "model.add(BatchNormalization())\n",
        "\n",
        "model.add(Dropout(0.2))\n",
        "model.add(Flatten())\n"
      ],
      "execution_count": 67,
      "outputs": []
    },
    {
      "cell_type": "code",
      "metadata": {
        "id": "ONzUyrPWnw8y"
      },
      "source": [
        "# Fully Connected Layer\n",
        "model.add(Dense(128,activation=\"relu\"))\n",
        "model.add(Dropout(0.2))\n",
        "model.add(Dense(3, activation=\"softmax\"))"
      ],
      "execution_count": 68,
      "outputs": []
    },
    {
      "cell_type": "code",
      "metadata": {
        "colab": {
          "base_uri": "https://localhost:8080/"
        },
        "id": "aom4rwTcn2u3",
        "outputId": "095c40f4-36ff-4aab-bc81-20b85d3302e3"
      },
      "source": [
        "print(model.summary())"
      ],
      "execution_count": 69,
      "outputs": [
        {
          "output_type": "stream",
          "name": "stdout",
          "text": [
            "Model: \"sequential_11\"\n",
            "_________________________________________________________________\n",
            " Layer (type)                Output Shape              Param #   \n",
            "=================================================================\n",
            " conv2d_31 (Conv2D)          (None, 148, 148, 16)      448       \n",
            "                                                                 \n",
            " max_pooling2d_30 (MaxPoolin  (None, 74, 74, 16)       0         \n",
            " g2D)                                                            \n",
            "                                                                 \n",
            " batch_normalization_17 (Bat  (None, 74, 74, 16)       64        \n",
            " chNormalization)                                                \n",
            "                                                                 \n",
            " conv2d_32 (Conv2D)          (None, 72, 72, 32)        4640      \n",
            "                                                                 \n",
            " max_pooling2d_31 (MaxPoolin  (None, 36, 36, 32)       0         \n",
            " g2D)                                                            \n",
            "                                                                 \n",
            " batch_normalization_18 (Bat  (None, 36, 36, 32)       128       \n",
            " chNormalization)                                                \n",
            "                                                                 \n",
            " conv2d_33 (Conv2D)          (None, 34, 34, 64)        18496     \n",
            "                                                                 \n",
            " max_pooling2d_32 (MaxPoolin  (None, 17, 17, 64)       0         \n",
            " g2D)                                                            \n",
            "                                                                 \n",
            " batch_normalization_19 (Bat  (None, 17, 17, 64)       256       \n",
            " chNormalization)                                                \n",
            "                                                                 \n",
            " dropout_18 (Dropout)        (None, 17, 17, 64)        0         \n",
            "                                                                 \n",
            " flatten_10 (Flatten)        (None, 18496)             0         \n",
            "                                                                 \n",
            " dense_20 (Dense)            (None, 128)               2367616   \n",
            "                                                                 \n",
            " dropout_19 (Dropout)        (None, 128)               0         \n",
            "                                                                 \n",
            " dense_21 (Dense)            (None, 3)                 387       \n",
            "                                                                 \n",
            "=================================================================\n",
            "Total params: 2,392,035\n",
            "Trainable params: 2,391,811\n",
            "Non-trainable params: 224\n",
            "_________________________________________________________________\n",
            "None\n"
          ]
        }
      ]
    },
    {
      "cell_type": "code",
      "metadata": {
        "colab": {
          "base_uri": "https://localhost:8080/"
        },
        "id": "qkLU2wWcpKJJ",
        "outputId": "07879402-3179-4ddd-a9ed-fb33e2a5c5b3"
      },
      "source": [
        "from tensorflow.keras.optimizers import Adam\n",
        "\n",
        "model.compile(optimizer=Adam(lr=0.001), \n",
        "              loss='categorical_crossentropy', \n",
        "              metrics=['acc'])"
      ],
      "execution_count": 70,
      "outputs": [
        {
          "output_type": "stream",
          "name": "stderr",
          "text": [
            "/usr/local/lib/python3.7/dist-packages/keras/optimizer_v2/adam.py:105: UserWarning: The `lr` argument is deprecated, use `learning_rate` instead.\n",
            "  super(Adam, self).__init__(name, **kwargs)\n"
          ]
        }
      ]
    },
    {
      "cell_type": "code",
      "metadata": {
        "colab": {
          "base_uri": "https://localhost:8080/"
        },
        "id": "9QfLtU6ApLZT",
        "outputId": "bad2e238-cb97-4b40-f650-0321983bdbf3"
      },
      "source": [
        "H = model.fit(train_generator, batch_size=2, epochs = 100, validation_data = validation_generator)"
      ],
      "execution_count": 71,
      "outputs": [
        {
          "output_type": "stream",
          "name": "stdout",
          "text": [
            "Epoch 1/100\n",
            "3/3 [==============================] - 6s 2s/step - loss: 4.0689 - acc: 0.3646 - val_loss: 2.3286 - val_acc: 0.3333\n",
            "Epoch 2/100\n",
            "3/3 [==============================] - 4s 1s/step - loss: 1.7884 - acc: 0.7917 - val_loss: 3.3438 - val_acc: 0.3333\n",
            "Epoch 3/100\n",
            "3/3 [==============================] - 4s 1s/step - loss: 0.6136 - acc: 0.8125 - val_loss: 3.5030 - val_acc: 0.3333\n",
            "Epoch 4/100\n",
            "3/3 [==============================] - 4s 1s/step - loss: 0.1617 - acc: 0.9271 - val_loss: 3.4019 - val_acc: 0.3333\n",
            "Epoch 5/100\n",
            "3/3 [==============================] - 4s 1s/step - loss: 0.4187 - acc: 0.9375 - val_loss: 2.9743 - val_acc: 0.3333\n",
            "Epoch 6/100\n",
            "3/3 [==============================] - 4s 1s/step - loss: 0.1062 - acc: 0.9688 - val_loss: 2.4529 - val_acc: 0.3333\n",
            "Epoch 7/100\n",
            "3/3 [==============================] - 4s 1s/step - loss: 0.1627 - acc: 0.9375 - val_loss: 2.0165 - val_acc: 0.3333\n",
            "Epoch 8/100\n",
            "3/3 [==============================] - 4s 1s/step - loss: 0.0506 - acc: 0.9896 - val_loss: 1.7114 - val_acc: 0.3333\n",
            "Epoch 9/100\n",
            "3/3 [==============================] - 4s 1s/step - loss: 0.0665 - acc: 0.9792 - val_loss: 1.5049 - val_acc: 0.3810\n",
            "Epoch 10/100\n",
            "3/3 [==============================] - 4s 1s/step - loss: 0.0463 - acc: 0.9792 - val_loss: 1.4773 - val_acc: 0.4286\n",
            "Epoch 11/100\n",
            "3/3 [==============================] - 4s 1s/step - loss: 0.0934 - acc: 0.9688 - val_loss: 1.4901 - val_acc: 0.4286\n",
            "Epoch 12/100\n",
            "3/3 [==============================] - 4s 1s/step - loss: 0.0055 - acc: 1.0000 - val_loss: 1.5025 - val_acc: 0.3810\n",
            "Epoch 13/100\n",
            "3/3 [==============================] - 4s 1s/step - loss: 0.0176 - acc: 0.9896 - val_loss: 1.2555 - val_acc: 0.4286\n",
            "Epoch 14/100\n",
            "3/3 [==============================] - 4s 1s/step - loss: 0.0148 - acc: 0.9896 - val_loss: 1.2637 - val_acc: 0.3810\n",
            "Epoch 15/100\n",
            "3/3 [==============================] - 4s 1s/step - loss: 0.0380 - acc: 0.9896 - val_loss: 1.3364 - val_acc: 0.3810\n",
            "Epoch 16/100\n",
            "3/3 [==============================] - 4s 1s/step - loss: 0.0075 - acc: 1.0000 - val_loss: 1.4058 - val_acc: 0.4286\n",
            "Epoch 17/100\n",
            "3/3 [==============================] - 4s 1s/step - loss: 0.0408 - acc: 0.9688 - val_loss: 1.5306 - val_acc: 0.4286\n",
            "Epoch 18/100\n",
            "3/3 [==============================] - 4s 1s/step - loss: 0.0316 - acc: 0.9896 - val_loss: 1.6952 - val_acc: 0.4286\n",
            "Epoch 19/100\n",
            "3/3 [==============================] - 4s 1s/step - loss: 0.0037 - acc: 1.0000 - val_loss: 1.8230 - val_acc: 0.4286\n",
            "Epoch 20/100\n",
            "3/3 [==============================] - 4s 1s/step - loss: 0.0059 - acc: 1.0000 - val_loss: 1.9172 - val_acc: 0.3810\n",
            "Epoch 21/100\n",
            "3/3 [==============================] - 4s 1s/step - loss: 0.0079 - acc: 1.0000 - val_loss: 1.9879 - val_acc: 0.3810\n",
            "Epoch 22/100\n",
            "3/3 [==============================] - 4s 1s/step - loss: 0.0020 - acc: 1.0000 - val_loss: 2.0503 - val_acc: 0.4286\n",
            "Epoch 23/100\n",
            "3/3 [==============================] - 4s 1s/step - loss: 0.0017 - acc: 1.0000 - val_loss: 2.1170 - val_acc: 0.4286\n",
            "Epoch 24/100\n",
            "3/3 [==============================] - 4s 1s/step - loss: 9.3028e-04 - acc: 1.0000 - val_loss: 2.1894 - val_acc: 0.3810\n",
            "Epoch 25/100\n",
            "3/3 [==============================] - 4s 1s/step - loss: 0.0435 - acc: 0.9896 - val_loss: 2.2891 - val_acc: 0.3810\n",
            "Epoch 26/100\n",
            "3/3 [==============================] - 4s 1s/step - loss: 0.0058 - acc: 1.0000 - val_loss: 2.3256 - val_acc: 0.4286\n",
            "Epoch 27/100\n",
            "3/3 [==============================] - 4s 1s/step - loss: 0.0020 - acc: 1.0000 - val_loss: 2.3769 - val_acc: 0.4286\n",
            "Epoch 28/100\n",
            "3/3 [==============================] - 4s 1s/step - loss: 0.0020 - acc: 1.0000 - val_loss: 2.4271 - val_acc: 0.4286\n",
            "Epoch 29/100\n",
            "3/3 [==============================] - 4s 1s/step - loss: 0.0018 - acc: 1.0000 - val_loss: 2.4820 - val_acc: 0.4286\n",
            "Epoch 30/100\n",
            "3/3 [==============================] - 4s 1s/step - loss: 0.0124 - acc: 1.0000 - val_loss: 2.5879 - val_acc: 0.3810\n",
            "Epoch 31/100\n",
            "3/3 [==============================] - 4s 1s/step - loss: 0.0159 - acc: 0.9896 - val_loss: 2.8470 - val_acc: 0.4286\n",
            "Epoch 32/100\n",
            "3/3 [==============================] - 4s 1s/step - loss: 0.0268 - acc: 0.9896 - val_loss: 3.1692 - val_acc: 0.3810\n",
            "Epoch 33/100\n",
            "3/3 [==============================] - 4s 1s/step - loss: 0.0016 - acc: 1.0000 - val_loss: 3.3853 - val_acc: 0.3810\n",
            "Epoch 34/100\n",
            "3/3 [==============================] - 4s 1s/step - loss: 0.0096 - acc: 0.9896 - val_loss: 3.4899 - val_acc: 0.3810\n",
            "Epoch 35/100\n",
            "3/3 [==============================] - 4s 1s/step - loss: 0.0778 - acc: 0.9792 - val_loss: 3.2464 - val_acc: 0.3810\n",
            "Epoch 36/100\n",
            "3/3 [==============================] - 4s 1s/step - loss: 9.8368e-04 - acc: 1.0000 - val_loss: 3.1052 - val_acc: 0.2857\n",
            "Epoch 37/100\n",
            "3/3 [==============================] - 4s 1s/step - loss: 0.0808 - acc: 0.9792 - val_loss: 3.0916 - val_acc: 0.3810\n",
            "Epoch 38/100\n",
            "3/3 [==============================] - 4s 1s/step - loss: 0.1418 - acc: 0.9896 - val_loss: 3.1037 - val_acc: 0.4286\n",
            "Epoch 39/100\n",
            "3/3 [==============================] - 4s 1s/step - loss: 0.0566 - acc: 0.9688 - val_loss: 3.1620 - val_acc: 0.4286\n",
            "Epoch 40/100\n",
            "3/3 [==============================] - 4s 1s/step - loss: 0.0051 - acc: 1.0000 - val_loss: 3.3872 - val_acc: 0.4286\n",
            "Epoch 41/100\n",
            "3/3 [==============================] - 4s 1s/step - loss: 0.0055 - acc: 1.0000 - val_loss: 3.5795 - val_acc: 0.4286\n",
            "Epoch 42/100\n",
            "3/3 [==============================] - 4s 1s/step - loss: 0.1246 - acc: 0.9896 - val_loss: 3.6704 - val_acc: 0.4286\n",
            "Epoch 43/100\n",
            "3/3 [==============================] - 4s 1s/step - loss: 0.0753 - acc: 0.9896 - val_loss: 3.5147 - val_acc: 0.4286\n",
            "Epoch 44/100\n",
            "3/3 [==============================] - 4s 1s/step - loss: 0.0045 - acc: 1.0000 - val_loss: 3.5069 - val_acc: 0.4286\n",
            "Epoch 45/100\n",
            "3/3 [==============================] - 4s 1s/step - loss: 5.6588e-04 - acc: 1.0000 - val_loss: 3.6156 - val_acc: 0.4286\n",
            "Epoch 46/100\n",
            "3/3 [==============================] - 4s 1s/step - loss: 0.0028 - acc: 1.0000 - val_loss: 3.7098 - val_acc: 0.4762\n",
            "Epoch 47/100\n",
            "3/3 [==============================] - 4s 1s/step - loss: 6.9764e-04 - acc: 1.0000 - val_loss: 3.7625 - val_acc: 0.4286\n",
            "Epoch 48/100\n",
            "3/3 [==============================] - 4s 1s/step - loss: 0.0075 - acc: 1.0000 - val_loss: 4.0127 - val_acc: 0.4286\n",
            "Epoch 49/100\n",
            "3/3 [==============================] - 4s 1s/step - loss: 0.0030 - acc: 1.0000 - val_loss: 4.1814 - val_acc: 0.4286\n",
            "Epoch 50/100\n",
            "3/3 [==============================] - 4s 1s/step - loss: 0.0047 - acc: 1.0000 - val_loss: 4.2362 - val_acc: 0.4286\n",
            "Epoch 51/100\n",
            "3/3 [==============================] - 4s 1s/step - loss: 7.3970e-04 - acc: 1.0000 - val_loss: 4.2162 - val_acc: 0.3810\n",
            "Epoch 52/100\n",
            "3/3 [==============================] - 4s 1s/step - loss: 0.0011 - acc: 1.0000 - val_loss: 4.2096 - val_acc: 0.4762\n",
            "Epoch 53/100\n",
            "3/3 [==============================] - 4s 1s/step - loss: 0.0345 - acc: 0.9896 - val_loss: 4.2133 - val_acc: 0.4762\n",
            "Epoch 54/100\n",
            "3/3 [==============================] - 4s 1s/step - loss: 1.5480e-04 - acc: 1.0000 - val_loss: 4.2243 - val_acc: 0.4762\n",
            "Epoch 55/100\n",
            "3/3 [==============================] - 4s 2s/step - loss: 0.0019 - acc: 1.0000 - val_loss: 4.2369 - val_acc: 0.4286\n",
            "Epoch 56/100\n",
            "3/3 [==============================] - 4s 1s/step - loss: 0.0056 - acc: 1.0000 - val_loss: 4.2398 - val_acc: 0.4762\n",
            "Epoch 57/100\n",
            "3/3 [==============================] - 4s 1s/step - loss: 0.0011 - acc: 1.0000 - val_loss: 4.2703 - val_acc: 0.5238\n",
            "Epoch 58/100\n",
            "3/3 [==============================] - 4s 1s/step - loss: 0.0093 - acc: 1.0000 - val_loss: 4.1307 - val_acc: 0.5238\n",
            "Epoch 59/100\n",
            "3/3 [==============================] - 4s 1s/step - loss: 0.0035 - acc: 1.0000 - val_loss: 4.0351 - val_acc: 0.4286\n",
            "Epoch 60/100\n",
            "3/3 [==============================] - 4s 1s/step - loss: 0.0031 - acc: 1.0000 - val_loss: 4.0212 - val_acc: 0.3810\n",
            "Epoch 61/100\n",
            "3/3 [==============================] - 4s 1s/step - loss: 0.0115 - acc: 0.9896 - val_loss: 4.0285 - val_acc: 0.3333\n",
            "Epoch 62/100\n",
            "3/3 [==============================] - 4s 1s/step - loss: 2.5097e-04 - acc: 1.0000 - val_loss: 4.0556 - val_acc: 0.3333\n",
            "Epoch 63/100\n",
            "3/3 [==============================] - 4s 1s/step - loss: 8.2376e-04 - acc: 1.0000 - val_loss: 4.0973 - val_acc: 0.3333\n",
            "Epoch 64/100\n",
            "3/3 [==============================] - 4s 1s/step - loss: 3.1669e-04 - acc: 1.0000 - val_loss: 4.1478 - val_acc: 0.3810\n",
            "Epoch 65/100\n",
            "3/3 [==============================] - 4s 1s/step - loss: 0.0114 - acc: 0.9896 - val_loss: 4.2075 - val_acc: 0.3810\n",
            "Epoch 66/100\n",
            "3/3 [==============================] - 4s 1s/step - loss: 0.0020 - acc: 1.0000 - val_loss: 4.2643 - val_acc: 0.4286\n",
            "Epoch 67/100\n",
            "3/3 [==============================] - 4s 1s/step - loss: 0.0059 - acc: 1.0000 - val_loss: 4.3149 - val_acc: 0.4286\n",
            "Epoch 68/100\n",
            "3/3 [==============================] - 4s 1s/step - loss: 9.5849e-04 - acc: 1.0000 - val_loss: 4.3927 - val_acc: 0.4286\n",
            "Epoch 69/100\n",
            "3/3 [==============================] - 4s 1s/step - loss: 1.0431e-04 - acc: 1.0000 - val_loss: 4.5150 - val_acc: 0.4286\n",
            "Epoch 70/100\n",
            "3/3 [==============================] - 4s 1s/step - loss: 0.0099 - acc: 0.9896 - val_loss: 4.6090 - val_acc: 0.4286\n",
            "Epoch 71/100\n",
            "3/3 [==============================] - 4s 1s/step - loss: 0.0035 - acc: 1.0000 - val_loss: 4.6731 - val_acc: 0.4286\n",
            "Epoch 72/100\n",
            "3/3 [==============================] - 4s 1s/step - loss: 0.0013 - acc: 1.0000 - val_loss: 4.7623 - val_acc: 0.4286\n",
            "Epoch 73/100\n",
            "3/3 [==============================] - 4s 1s/step - loss: 3.5362e-04 - acc: 1.0000 - val_loss: 4.8646 - val_acc: 0.4286\n",
            "Epoch 74/100\n",
            "3/3 [==============================] - 4s 1s/step - loss: 2.7218e-04 - acc: 1.0000 - val_loss: 4.9513 - val_acc: 0.4286\n",
            "Epoch 75/100\n",
            "3/3 [==============================] - 4s 1s/step - loss: 1.5210e-04 - acc: 1.0000 - val_loss: 5.0247 - val_acc: 0.4286\n",
            "Epoch 76/100\n",
            "3/3 [==============================] - 4s 1s/step - loss: 6.5320e-05 - acc: 1.0000 - val_loss: 5.0890 - val_acc: 0.4286\n",
            "Epoch 77/100\n",
            "3/3 [==============================] - 4s 1s/step - loss: 1.1720e-04 - acc: 1.0000 - val_loss: 5.1397 - val_acc: 0.4286\n",
            "Epoch 78/100\n",
            "3/3 [==============================] - 4s 1s/step - loss: 2.5071e-05 - acc: 1.0000 - val_loss: 5.1797 - val_acc: 0.4286\n",
            "Epoch 79/100\n",
            "3/3 [==============================] - 4s 1s/step - loss: 3.4585e-04 - acc: 1.0000 - val_loss: 5.1825 - val_acc: 0.4286\n",
            "Epoch 80/100\n",
            "3/3 [==============================] - 4s 1s/step - loss: 1.2542e-04 - acc: 1.0000 - val_loss: 5.1787 - val_acc: 0.4286\n",
            "Epoch 81/100\n",
            "3/3 [==============================] - 4s 1s/step - loss: 8.1699e-04 - acc: 1.0000 - val_loss: 5.1864 - val_acc: 0.4286\n",
            "Epoch 82/100\n",
            "3/3 [==============================] - 4s 1s/step - loss: 0.0013 - acc: 1.0000 - val_loss: 5.2013 - val_acc: 0.4286\n",
            "Epoch 83/100\n",
            "3/3 [==============================] - 4s 1s/step - loss: 7.8276e-04 - acc: 1.0000 - val_loss: 5.2012 - val_acc: 0.4286\n",
            "Epoch 84/100\n",
            "3/3 [==============================] - 4s 1s/step - loss: 2.2977e-04 - acc: 1.0000 - val_loss: 5.2142 - val_acc: 0.4286\n",
            "Epoch 85/100\n",
            "3/3 [==============================] - 4s 1s/step - loss: 1.6889e-04 - acc: 1.0000 - val_loss: 5.2275 - val_acc: 0.4286\n",
            "Epoch 86/100\n",
            "3/3 [==============================] - 4s 1s/step - loss: 1.9238e-04 - acc: 1.0000 - val_loss: 5.2373 - val_acc: 0.4286\n",
            "Epoch 87/100\n",
            "3/3 [==============================] - 4s 1s/step - loss: 1.8848e-04 - acc: 1.0000 - val_loss: 5.2456 - val_acc: 0.4286\n",
            "Epoch 88/100\n",
            "3/3 [==============================] - 4s 1s/step - loss: 2.1159e-04 - acc: 1.0000 - val_loss: 5.2534 - val_acc: 0.4286\n",
            "Epoch 89/100\n",
            "3/3 [==============================] - 4s 1s/step - loss: 1.8913e-04 - acc: 1.0000 - val_loss: 5.2708 - val_acc: 0.4286\n",
            "Epoch 90/100\n",
            "3/3 [==============================] - 4s 1s/step - loss: 8.7373e-05 - acc: 1.0000 - val_loss: 5.2795 - val_acc: 0.4286\n",
            "Epoch 91/100\n",
            "3/3 [==============================] - 4s 1s/step - loss: 0.0037 - acc: 1.0000 - val_loss: 5.1286 - val_acc: 0.4286\n",
            "Epoch 92/100\n",
            "3/3 [==============================] - 4s 1s/step - loss: 1.4048e-04 - acc: 1.0000 - val_loss: 5.0160 - val_acc: 0.4286\n",
            "Epoch 93/100\n",
            "3/3 [==============================] - 4s 1s/step - loss: 1.1379e-04 - acc: 1.0000 - val_loss: 4.9292 - val_acc: 0.4286\n",
            "Epoch 94/100\n",
            "3/3 [==============================] - 4s 1s/step - loss: 3.8707e-05 - acc: 1.0000 - val_loss: 4.8608 - val_acc: 0.4286\n",
            "Epoch 95/100\n",
            "3/3 [==============================] - 4s 1s/step - loss: 5.5464e-05 - acc: 1.0000 - val_loss: 4.8036 - val_acc: 0.4286\n",
            "Epoch 96/100\n",
            "3/3 [==============================] - 4s 1s/step - loss: 1.2368e-04 - acc: 1.0000 - val_loss: 4.7553 - val_acc: 0.4286\n",
            "Epoch 97/100\n",
            "3/3 [==============================] - 4s 1s/step - loss: 2.4221e-04 - acc: 1.0000 - val_loss: 4.7258 - val_acc: 0.4286\n",
            "Epoch 98/100\n",
            "3/3 [==============================] - 4s 1s/step - loss: 7.9856e-05 - acc: 1.0000 - val_loss: 4.7049 - val_acc: 0.4286\n",
            "Epoch 99/100\n",
            "3/3 [==============================] - 4s 1s/step - loss: 4.7851e-05 - acc: 1.0000 - val_loss: 4.6809 - val_acc: 0.4286\n",
            "Epoch 100/100\n",
            "3/3 [==============================] - 4s 1s/step - loss: 9.2092e-05 - acc: 1.0000 - val_loss: 4.6551 - val_acc: 0.4286\n"
          ]
        }
      ]
    }
  ]
}