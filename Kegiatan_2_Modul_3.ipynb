{
  "nbformat": 4,
  "nbformat_minor": 0,
  "metadata": {
    "colab": {
      "name": "Kegiatan 2 Modul 3.ipynb",
      "provenance": [],
      "collapsed_sections": []
    },
    "kernelspec": {
      "name": "python3",
      "display_name": "Python 3"
    },
    "language_info": {
      "name": "python"
    },
    "accelerator": "GPU"
  },
  "cells": [
    {
      "cell_type": "code",
      "metadata": {
        "id": "LZDpo8JGN-9v"
      },
      "source": [
        "#import library \n",
        "import pandas as pd\n",
        "import numpy as np\n",
        "import os, cv2, shutil\n",
        "import numpy as np\n",
        "import matplotlib.pyplot as plt\n",
        "import matplotlib.image as mpimg\n",
        "%matplotlib inline\n",
        "from sklearn.model_selection import train_test_split\n",
        "from sklearn.metrics import classification_report, confusion_matrix\n",
        "from tensorflow.keras.preprocessing.image import ImageDataGenerator\n",
        "from tensorflow.keras.models import Sequential\n",
        "from tensorflow.keras.layers import InputLayer, Dense, Conv2D, MaxPool2D, Flatten,BatchNormalization, Dropout\n",
        "from tensorflow.keras.optimizers import Adam\n",
        "from google.colab import files\n",
        "from keras.preprocessing import image"
      ],
      "execution_count": 1,
      "outputs": []
    },
    {
      "cell_type": "code",
      "metadata": {
        "colab": {
          "base_uri": "https://localhost:8080/"
        },
        "id": "EjyFshM2OKJ5",
        "outputId": "38a6a2db-58a7-401a-f824-f3a7982490b8"
      },
      "source": [
        "from google.colab import drive\n",
        "drive.mount('/content/drive')"
      ],
      "execution_count": 2,
      "outputs": [
        {
          "output_type": "stream",
          "name": "stdout",
          "text": [
            "Mounted at /content/drive\n"
          ]
        }
      ]
    },
    {
      "cell_type": "code",
      "metadata": {
        "id": "sHaPff-HOKMj"
      },
      "source": [
        "# Definisikan path kaggle json\n",
        "# Sesuaikan dengan path anda\n",
        "import os\n",
        "os.environ['KAGGLE_CONFIG_DIR'] = \"/content/drive/My Drive/dataset_tugas2\""
      ],
      "execution_count": 3,
      "outputs": []
    },
    {
      "cell_type": "code",
      "metadata": {
        "colab": {
          "base_uri": "https://localhost:8080/"
        },
        "id": "nj5_q2LoOKOn",
        "outputId": "476d688e-4d58-46dc-b477-406ac3994902"
      },
      "source": [
        "# Ubah lokasi direktori kerja\n",
        "# Sesuaikan dengan path anda\n",
        "%cd /content/drive/My Drive/dataset_tugas2"
      ],
      "execution_count": 3,
      "outputs": [
        {
          "output_type": "stream",
          "name": "stdout",
          "text": [
            "/content/drive/My Drive/dataset_tugas2\n"
          ]
        }
      ]
    },
    {
      "cell_type": "code",
      "metadata": {
        "colab": {
          "base_uri": "https://localhost:8080/"
        },
        "id": "1O8GEUFWOKQw",
        "outputId": "0796d01a-7c95-41d2-ad47-07453c5c2136"
      },
      "source": [
        "# Cek apakah api sudah terbaca oleh sistem\n",
        "!ls  "
      ],
      "execution_count": 4,
      "outputs": [
        {
          "output_type": "stream",
          "name": "stdout",
          "text": [
            "Dataset  kaggle.json  rice_leaf_diseases\n"
          ]
        }
      ]
    },
    {
      "cell_type": "code",
      "metadata": {
        "colab": {
          "base_uri": "https://localhost:8080/"
        },
        "id": "GRAkOfL_OKTK",
        "outputId": "46c8f5d8-6c44-4cac-acfc-4f2c60273d3a"
      },
      "source": [
        "!kaggle datasets download -d vbookshelf/rice-leaf-diseases"
      ],
      "execution_count": 6,
      "outputs": [
        {
          "output_type": "stream",
          "name": "stdout",
          "text": [
            "Downloading rice-leaf-diseases.zip to /content/drive/My Drive/dataset_tugas2\n",
            " 87% 32.0M/36.7M [00:01<00:00, 17.5MB/s]\n",
            "100% 36.7M/36.7M [00:01<00:00, 20.6MB/s]\n"
          ]
        }
      ]
    },
    {
      "cell_type": "code",
      "metadata": {
        "colab": {
          "base_uri": "https://localhost:8080/"
        },
        "id": "DNpvw5MXOKWu",
        "outputId": "04257ffd-c135-4b83-cfea-071fe5e4f2a6"
      },
      "source": [
        "# Cek isi direktori kerja dan memastikan dataset telah berhasil didownload.\n",
        "!ls"
      ],
      "execution_count": 7,
      "outputs": [
        {
          "output_type": "stream",
          "name": "stdout",
          "text": [
            "kaggle.json  rice-leaf-diseases.zip\n"
          ]
        }
      ]
    },
    {
      "cell_type": "code",
      "metadata": {
        "id": "X7r3e8U_OKYu"
      },
      "source": [
        "# Ekstrak file dataset dan hapus file zip dataset agar tidak memakan banyak tempat.\n",
        "!unzip \\*.zip &> /dev/null && rm *.zip"
      ],
      "execution_count": 8,
      "outputs": []
    },
    {
      "cell_type": "code",
      "metadata": {
        "colab": {
          "base_uri": "https://localhost:8080/"
        },
        "id": "IaL2k9R7OV7M",
        "outputId": "6ec7352c-116d-4a22-bb1d-2f281bfd0985"
      },
      "source": [
        "!ls"
      ],
      "execution_count": 16,
      "outputs": [
        {
          "output_type": "stream",
          "name": "stdout",
          "text": [
            "Dataset  kaggle.json  rice_leaf_diseases\n"
          ]
        }
      ]
    },
    {
      "cell_type": "code",
      "metadata": {
        "id": "QiyVRQgaOV4L"
      },
      "source": [
        "os.makedirs('/content/drive/My Drive/dataset_tugas2/Dataset')"
      ],
      "execution_count": null,
      "outputs": []
    },
    {
      "cell_type": "code",
      "metadata": {
        "colab": {
          "base_uri": "https://localhost:8080/"
        },
        "id": "edtEc5TZmHOs",
        "outputId": "48be6109-c586-4894-e436-6b5bc6ebf2c3"
      },
      "source": [
        "!pip install split-folders"
      ],
      "execution_count": 6,
      "outputs": [
        {
          "output_type": "stream",
          "name": "stdout",
          "text": [
            "Collecting split-folders\n",
            "  Downloading split_folders-0.4.3-py3-none-any.whl (7.4 kB)\n",
            "Installing collected packages: split-folders\n",
            "Successfully installed split-folders-0.4.3\n"
          ]
        }
      ]
    },
    {
      "cell_type": "code",
      "metadata": {
        "colab": {
          "base_uri": "https://localhost:8080/"
        },
        "id": "ZuZlHY70eyCG",
        "outputId": "8e03e583-64a6-42f4-bb0b-76f071e54f41"
      },
      "source": [
        "import splitfolders\n",
        "\n",
        "\n",
        "base_dir = '/content/drive/MyDrive/dataset_tugas2/rice_leaf_diseases'\n",
        "data_dir = '/content/drive/My Drive/dataset_tugas2/Dataset'\n",
        "\n",
        "splitfolders.ratio(base_dir, output=data_dir, seed=1337, ratio=(.8, .19, .01),group_prefix=None)"
      ],
      "execution_count": 10,
      "outputs": [
        {
          "output_type": "stream",
          "name": "stderr",
          "text": [
            "Copying files: 120 files [00:29,  4.00 files/s]\n"
          ]
        }
      ]
    },
    {
      "cell_type": "code",
      "metadata": {
        "id": "pLeQ_8f-nNES"
      },
      "source": [
        "# TULIS KODE ANDA DISINI\n",
        "datagen = ImageDataGenerator(rescale=1./255)"
      ],
      "execution_count": 130,
      "outputs": []
    },
    {
      "cell_type": "code",
      "metadata": {
        "colab": {
          "base_uri": "https://localhost:8080/"
        },
        "id": "e3ZN_BKbnNPd",
        "outputId": "9cd3bf96-2fd0-4325-82d8-d1c296f77c3e"
      },
      "source": [
        "input_shape = (224, 224)\n",
        "\n",
        "train = '/content/drive/MyDrive/dataset_tugas2/Dataset/train'\n",
        "train_generator = datagen.flow_from_directory(train,\n",
        "                                              target_size=input_shape,\n",
        "                                              class_mode='categorical',\n",
        "                                              batch_size=32,\n",
        "                                              color_mode='rgb',\n",
        "                                              shuffle= True)\n",
        "\n",
        "validation = '/content/drive/MyDrive/dataset_tugas2/Dataset/val'\n",
        "validation_generator = datagen.flow_from_directory(validation,\n",
        "                                              target_size=input_shape,\n",
        "                                              class_mode='categorical',\n",
        "                                              batch_size=32,\n",
        "                                              color_mode='rgb',\n",
        "                                              shuffle= True)\n",
        "\n",
        "test = '/content/drive/MyDrive/dataset_tugas2/Dataset/test'\n",
        "test_generator = datagen.flow_from_directory(test,\n",
        "                                              target_size=input_shape,\n",
        "                                              batch_size=32,\n",
        "                                              color_mode='rgb',\n",
        "                                              shuffle= False)"
      ],
      "execution_count": 131,
      "outputs": [
        {
          "output_type": "stream",
          "name": "stdout",
          "text": [
            "Found 96 images belonging to 3 classes.\n",
            "Found 21 images belonging to 3 classes.\n",
            "Found 3 images belonging to 3 classes.\n"
          ]
        }
      ]
    },
    {
      "cell_type": "code",
      "metadata": {
        "id": "dQw8Wq9ZnuYS"
      },
      "source": [
        "from tensorflow.keras.models import Sequential, load_model\n",
        "from tensorflow.keras.layers import InputLayer, Dense, Conv2D, MaxPooling2D, Flatten, BatchNormalization, Dropout, GlobalMaxPooling2D, BatchNormalization"
      ],
      "execution_count": 132,
      "outputs": []
    },
    {
      "cell_type": "code",
      "metadata": {
        "id": "8Ev5dHHWnxEk"
      },
      "source": [
        "# Model building\n",
        "#Instatiating A convnet\n",
        "\n",
        "model = Sequential()\n",
        "\n",
        "model.add(InputLayer(input_shape=[224, 224, 3]))\n",
        "model.add(Conv2D(filters=1, kernel_size=3, strides=1, padding='same', activation='relu'))\n",
        "model.add(MaxPooling2D(pool_size = (3,3), strides=2))\n",
        "\n",
        "\n",
        "model.add(Conv2D(filters=3, kernel_size=3, strides=1, padding='same', activation='relu'))\n",
        "model.add(MaxPooling2D(pool_size = (3,3), strides=2))\n",
        "\n",
        "model.add(Conv2D(filters=1, kernel_size=3, strides=1, padding='same', activation='relu'))\n",
        "model.add(MaxPooling2D(pool_size = (3,3), strides=2))\n",
        "model.add(BatchNormalization())\n",
        "\n",
        "model.add(Dropout(0.4))\n",
        "model.add(Flatten())\n"
      ],
      "execution_count": 133,
      "outputs": []
    },
    {
      "cell_type": "code",
      "metadata": {
        "id": "ONzUyrPWnw8y"
      },
      "source": [
        "# Fully Connected Layer\n",
        "model.add(Dense(1024,activation=\"softmax\"))\n",
        "model.add(Dense(512,activation=\"softmax\"))\n",
        "model.add(Dense(3, activation=\"softmax\"))"
      ],
      "execution_count": 134,
      "outputs": []
    },
    {
      "cell_type": "code",
      "metadata": {
        "colab": {
          "base_uri": "https://localhost:8080/"
        },
        "id": "aom4rwTcn2u3",
        "outputId": "9de98122-e1fd-4ba2-b299-66f0f599ec88"
      },
      "source": [
        "print(model.summary())"
      ],
      "execution_count": 135,
      "outputs": [
        {
          "output_type": "stream",
          "name": "stdout",
          "text": [
            "Model: \"sequential_22\"\n",
            "_________________________________________________________________\n",
            " Layer (type)                Output Shape              Param #   \n",
            "=================================================================\n",
            " conv2d_64 (Conv2D)          (None, 224, 224, 1)       28        \n",
            "                                                                 \n",
            " max_pooling2d_62 (MaxPoolin  (None, 111, 111, 1)      0         \n",
            " g2D)                                                            \n",
            "                                                                 \n",
            " conv2d_65 (Conv2D)          (None, 111, 111, 3)       30        \n",
            "                                                                 \n",
            " max_pooling2d_63 (MaxPoolin  (None, 55, 55, 3)        0         \n",
            " g2D)                                                            \n",
            "                                                                 \n",
            " conv2d_66 (Conv2D)          (None, 55, 55, 1)         28        \n",
            "                                                                 \n",
            " max_pooling2d_64 (MaxPoolin  (None, 27, 27, 1)        0         \n",
            " g2D)                                                            \n",
            "                                                                 \n",
            " batch_normalization_40 (Bat  (None, 27, 27, 1)        4         \n",
            " chNormalization)                                                \n",
            "                                                                 \n",
            " dropout_32 (Dropout)        (None, 27, 27, 1)         0         \n",
            "                                                                 \n",
            " flatten_20 (Flatten)        (None, 729)               0         \n",
            "                                                                 \n",
            " dense_48 (Dense)            (None, 1024)              747520    \n",
            "                                                                 \n",
            " dense_49 (Dense)            (None, 512)               524800    \n",
            "                                                                 \n",
            " dense_50 (Dense)            (None, 3)                 1539      \n",
            "                                                                 \n",
            "=================================================================\n",
            "Total params: 1,273,949\n",
            "Trainable params: 1,273,947\n",
            "Non-trainable params: 2\n",
            "_________________________________________________________________\n",
            "None\n"
          ]
        }
      ]
    },
    {
      "cell_type": "code",
      "metadata": {
        "colab": {
          "base_uri": "https://localhost:8080/"
        },
        "id": "qkLU2wWcpKJJ",
        "outputId": "1fa4793f-0cc9-4797-ab35-cf4c9dcd6df1"
      },
      "source": [
        "from tensorflow.keras.optimizers import Adam\n",
        "\n",
        "model.compile(optimizer=Adam(lr=0.01), \n",
        "              loss='categorical_crossentropy', \n",
        "              metrics=['acc'])"
      ],
      "execution_count": 138,
      "outputs": [
        {
          "output_type": "stream",
          "name": "stderr",
          "text": [
            "/usr/local/lib/python3.7/dist-packages/keras/optimizer_v2/adam.py:105: UserWarning: The `lr` argument is deprecated, use `learning_rate` instead.\n",
            "  super(Adam, self).__init__(name, **kwargs)\n"
          ]
        }
      ]
    },
    {
      "cell_type": "code",
      "metadata": {
        "colab": {
          "base_uri": "https://localhost:8080/"
        },
        "id": "9QfLtU6ApLZT",
        "outputId": "655dd327-8b0d-4001-a3b3-ec997dd5da27"
      },
      "source": [
        "H = model.fit_generator(train_generator, epochs = 100, validation_data = validation_generator)"
      ],
      "execution_count": 139,
      "outputs": [
        {
          "metadata": {
            "tags": null
          },
          "name": "stderr",
          "output_type": "stream",
          "text": [
            "/usr/local/lib/python3.7/dist-packages/ipykernel_launcher.py:1: UserWarning: `Model.fit_generator` is deprecated and will be removed in a future version. Please use `Model.fit`, which supports generators.\n",
            "  \"\"\"Entry point for launching an IPython kernel.\n"
          ]
        },
        {
          "metadata": {
            "tags": null
          },
          "name": "stdout",
          "output_type": "stream",
          "text": [
            "Epoch 1/100\n",
            "3/3 [==============================] - 6s 2s/step - loss: 0.7935 - acc: 0.6354 - val_loss: 1.2120 - val_acc: 0.4286\n",
            "Epoch 2/100\n",
            "3/3 [==============================] - 4s 1s/step - loss: 0.5673 - acc: 0.8125 - val_loss: 1.6097 - val_acc: 0.4762\n",
            "Epoch 3/100\n",
            "3/3 [==============================] - 4s 1s/step - loss: 0.4153 - acc: 0.8646 - val_loss: 1.5347 - val_acc: 0.5238\n",
            "Epoch 4/100\n",
            "3/3 [==============================] - 4s 1s/step - loss: 0.3478 - acc: 0.8958 - val_loss: 1.5825 - val_acc: 0.4286\n",
            "Epoch 5/100\n",
            "3/3 [==============================] - 4s 1s/step - loss: 0.3324 - acc: 0.8854 - val_loss: 1.5358 - val_acc: 0.4286\n",
            "Epoch 6/100\n",
            "3/3 [==============================] - 4s 1s/step - loss: 0.3858 - acc: 0.8854 - val_loss: 1.5558 - val_acc: 0.4762\n",
            "Epoch 7/100\n",
            "3/3 [==============================] - 4s 1s/step - loss: 0.2899 - acc: 0.9167 - val_loss: 1.2190 - val_acc: 0.5714\n",
            "Epoch 8/100\n",
            "3/3 [==============================] - 4s 1s/step - loss: 0.2735 - acc: 0.9271 - val_loss: 1.1779 - val_acc: 0.3333\n",
            "Epoch 9/100\n",
            "3/3 [==============================] - 4s 1s/step - loss: 0.3896 - acc: 0.8958 - val_loss: 1.1962 - val_acc: 0.3333\n",
            "Epoch 10/100\n",
            "3/3 [==============================] - 4s 1s/step - loss: 0.2916 - acc: 0.9375 - val_loss: 1.2111 - val_acc: 0.3333\n",
            "Epoch 11/100\n",
            "3/3 [==============================] - 4s 1s/step - loss: 0.3243 - acc: 0.9271 - val_loss: 1.2294 - val_acc: 0.3333\n",
            "Epoch 12/100\n",
            "3/3 [==============================] - 4s 1s/step - loss: 0.3244 - acc: 0.9167 - val_loss: 1.2508 - val_acc: 0.3333\n",
            "Epoch 13/100\n",
            "3/3 [==============================] - 4s 1s/step - loss: 0.3608 - acc: 0.9062 - val_loss: 1.2768 - val_acc: 0.3333\n",
            "Epoch 14/100\n",
            "3/3 [==============================] - 4s 1s/step - loss: 0.3488 - acc: 0.9167 - val_loss: 1.0899 - val_acc: 0.4286\n",
            "Epoch 15/100\n",
            "3/3 [==============================] - 4s 1s/step - loss: 0.3065 - acc: 0.9167 - val_loss: 1.1028 - val_acc: 0.4286\n",
            "Epoch 16/100\n",
            "3/3 [==============================] - 4s 1s/step - loss: 0.1994 - acc: 0.9583 - val_loss: 1.2252 - val_acc: 0.3810\n",
            "Epoch 17/100\n",
            "3/3 [==============================] - 4s 1s/step - loss: 0.2791 - acc: 0.9271 - val_loss: 1.6575 - val_acc: 0.3810\n",
            "Epoch 18/100\n",
            "3/3 [==============================] - 4s 1s/step - loss: 0.2386 - acc: 0.9479 - val_loss: 1.6850 - val_acc: 0.3810\n",
            "Epoch 19/100\n",
            "3/3 [==============================] - 4s 1s/step - loss: 0.2505 - acc: 0.9375 - val_loss: 1.9247 - val_acc: 0.3810\n",
            "Epoch 20/100\n",
            "3/3 [==============================] - 4s 1s/step - loss: 0.2981 - acc: 0.9271 - val_loss: 1.9359 - val_acc: 0.3810\n",
            "Epoch 21/100\n",
            "3/3 [==============================] - 4s 1s/step - loss: 0.2770 - acc: 0.9167 - val_loss: 1.7214 - val_acc: 0.4762\n",
            "Epoch 22/100\n",
            "3/3 [==============================] - 4s 1s/step - loss: 0.1901 - acc: 0.9583 - val_loss: 1.3389 - val_acc: 0.5714\n",
            "Epoch 23/100\n",
            "3/3 [==============================] - 4s 1s/step - loss: 0.1766 - acc: 0.9583 - val_loss: 1.4151 - val_acc: 0.5238\n",
            "Epoch 24/100\n",
            "3/3 [==============================] - 4s 1s/step - loss: 0.2308 - acc: 0.9375 - val_loss: 1.7997 - val_acc: 0.3810\n",
            "Epoch 25/100\n",
            "3/3 [==============================] - 4s 1s/step - loss: 0.2103 - acc: 0.9479 - val_loss: 1.7490 - val_acc: 0.4286\n",
            "Epoch 26/100\n",
            "3/3 [==============================] - 4s 1s/step - loss: 0.3590 - acc: 0.8854 - val_loss: 1.7232 - val_acc: 0.4286\n",
            "Epoch 27/100\n",
            "3/3 [==============================] - 4s 1s/step - loss: 0.2637 - acc: 0.9271 - val_loss: 1.7862 - val_acc: 0.4286\n",
            "Epoch 28/100\n",
            "3/3 [==============================] - 4s 1s/step - loss: 0.3139 - acc: 0.9167 - val_loss: 1.7001 - val_acc: 0.4286\n",
            "Epoch 29/100\n",
            "3/3 [==============================] - 4s 1s/step - loss: 0.2648 - acc: 0.9167 - val_loss: 1.6865 - val_acc: 0.4286\n",
            "Epoch 30/100\n",
            "3/3 [==============================] - 4s 1s/step - loss: 0.3119 - acc: 0.9062 - val_loss: 1.5379 - val_acc: 0.5238\n",
            "Epoch 31/100\n",
            "3/3 [==============================] - 4s 1s/step - loss: 0.3433 - acc: 0.8854 - val_loss: 1.5929 - val_acc: 0.4762\n",
            "Epoch 32/100\n",
            "3/3 [==============================] - 4s 1s/step - loss: 0.3741 - acc: 0.8854 - val_loss: 1.5384 - val_acc: 0.4762\n",
            "Epoch 33/100\n",
            "3/3 [==============================] - 4s 1s/step - loss: 0.1962 - acc: 0.9375 - val_loss: 1.5819 - val_acc: 0.4762\n",
            "Epoch 34/100\n",
            "3/3 [==============================] - 4s 1s/step - loss: 0.2044 - acc: 0.9375 - val_loss: 1.4411 - val_acc: 0.5238\n",
            "Epoch 35/100\n",
            "3/3 [==============================] - 4s 1s/step - loss: 0.2767 - acc: 0.9062 - val_loss: 1.4215 - val_acc: 0.5238\n",
            "Epoch 36/100\n",
            "3/3 [==============================] - 4s 1s/step - loss: 0.2102 - acc: 0.9271 - val_loss: 1.4677 - val_acc: 0.5238\n",
            "Epoch 37/100\n",
            "3/3 [==============================] - 4s 1s/step - loss: 0.2814 - acc: 0.9062 - val_loss: 1.6521 - val_acc: 0.4762\n",
            "Epoch 38/100\n",
            "3/3 [==============================] - 4s 1s/step - loss: 0.1781 - acc: 0.9583 - val_loss: 1.6181 - val_acc: 0.5238\n",
            "Epoch 39/100\n",
            "3/3 [==============================] - 4s 1s/step - loss: 0.1768 - acc: 0.9583 - val_loss: 1.6368 - val_acc: 0.5238\n",
            "Epoch 40/100\n",
            "3/3 [==============================] - 4s 1s/step - loss: 0.2489 - acc: 0.9271 - val_loss: 1.4462 - val_acc: 0.5714\n",
            "Epoch 41/100\n",
            "3/3 [==============================] - 4s 1s/step - loss: 0.2485 - acc: 0.9375 - val_loss: 1.4465 - val_acc: 0.5714\n",
            "Epoch 42/100\n",
            "3/3 [==============================] - 4s 1s/step - loss: 0.1756 - acc: 0.9583 - val_loss: 1.6277 - val_acc: 0.5238\n",
            "Epoch 43/100\n",
            "3/3 [==============================] - 4s 1s/step - loss: 0.1744 - acc: 0.9583 - val_loss: 1.6579 - val_acc: 0.5238\n",
            "Epoch 44/100\n",
            "3/3 [==============================] - 4s 1s/step - loss: 0.1717 - acc: 0.9583 - val_loss: 1.6594 - val_acc: 0.5238\n",
            "Epoch 45/100\n",
            "3/3 [==============================] - 4s 1s/step - loss: 0.1749 - acc: 0.9583 - val_loss: 1.4633 - val_acc: 0.5714\n",
            "Epoch 46/100\n",
            "3/3 [==============================] - 4s 1s/step - loss: 0.1997 - acc: 0.9479 - val_loss: 1.4063 - val_acc: 0.5714\n",
            "Epoch 47/100\n",
            "3/3 [==============================] - 4s 1s/step - loss: 0.2387 - acc: 0.9375 - val_loss: 1.6498 - val_acc: 0.5238\n",
            "Epoch 48/100\n",
            "3/3 [==============================] - 4s 1s/step - loss: 0.2150 - acc: 0.9479 - val_loss: 1.8831 - val_acc: 0.4762\n",
            "Epoch 49/100\n",
            "3/3 [==============================] - 4s 1s/step - loss: 0.1819 - acc: 0.9479 - val_loss: 1.8782 - val_acc: 0.4286\n",
            "Epoch 50/100\n",
            "3/3 [==============================] - 4s 1s/step - loss: 0.2093 - acc: 0.9375 - val_loss: 2.1473 - val_acc: 0.4286\n",
            "Epoch 51/100\n",
            "3/3 [==============================] - 4s 1s/step - loss: 0.2564 - acc: 0.9271 - val_loss: 2.3014 - val_acc: 0.3810\n",
            "Epoch 52/100\n",
            "3/3 [==============================] - 4s 1s/step - loss: 0.2217 - acc: 0.9271 - val_loss: 1.6025 - val_acc: 0.5238\n",
            "Epoch 53/100\n",
            "3/3 [==============================] - 4s 1s/step - loss: 0.2233 - acc: 0.9375 - val_loss: 1.1359 - val_acc: 0.6190\n",
            "Epoch 54/100\n",
            "3/3 [==============================] - 4s 1s/step - loss: 0.6212 - acc: 0.8438 - val_loss: 1.4660 - val_acc: 0.5714\n",
            "Epoch 55/100\n",
            "3/3 [==============================] - 4s 1s/step - loss: 0.9681 - acc: 0.7604 - val_loss: 1.1515 - val_acc: 0.6667\n",
            "Epoch 56/100\n",
            "3/3 [==============================] - 4s 1s/step - loss: 0.8986 - acc: 0.7396 - val_loss: 1.6901 - val_acc: 0.4762\n",
            "Epoch 57/100\n",
            "3/3 [==============================] - 4s 1s/step - loss: 0.3941 - acc: 0.8646 - val_loss: 1.7989 - val_acc: 0.3333\n",
            "Epoch 58/100\n",
            "3/3 [==============================] - 4s 1s/step - loss: 0.3869 - acc: 0.8854 - val_loss: 1.8455 - val_acc: 0.3333\n",
            "Epoch 59/100\n",
            "3/3 [==============================] - 4s 1s/step - loss: 0.3092 - acc: 0.9062 - val_loss: 1.8561 - val_acc: 0.3810\n",
            "Epoch 60/100\n",
            "3/3 [==============================] - 4s 1s/step - loss: 0.2014 - acc: 0.9479 - val_loss: 1.8701 - val_acc: 0.3810\n",
            "Epoch 61/100\n",
            "3/3 [==============================] - 4s 1s/step - loss: 0.2393 - acc: 0.9271 - val_loss: 1.6153 - val_acc: 0.4762\n",
            "Epoch 62/100\n",
            "3/3 [==============================] - 4s 1s/step - loss: 0.3017 - acc: 0.9167 - val_loss: 1.7013 - val_acc: 0.4762\n",
            "Epoch 63/100\n",
            "3/3 [==============================] - 4s 1s/step - loss: 0.2661 - acc: 0.9167 - val_loss: 1.5518 - val_acc: 0.5238\n",
            "Epoch 64/100\n",
            "3/3 [==============================] - 4s 1s/step - loss: 0.2954 - acc: 0.9062 - val_loss: 1.6025 - val_acc: 0.4762\n",
            "Epoch 65/100\n",
            "3/3 [==============================] - 4s 1s/step - loss: 0.2776 - acc: 0.9167 - val_loss: 1.5109 - val_acc: 0.5238\n",
            "Epoch 66/100\n",
            "3/3 [==============================] - 4s 1s/step - loss: 0.2965 - acc: 0.9062 - val_loss: 1.5478 - val_acc: 0.5238\n",
            "Epoch 67/100\n",
            "3/3 [==============================] - 4s 1s/step - loss: 0.2499 - acc: 0.9271 - val_loss: 1.6808 - val_acc: 0.4762\n",
            "Epoch 68/100\n",
            "3/3 [==============================] - 4s 1s/step - loss: 0.2407 - acc: 0.9375 - val_loss: 1.6719 - val_acc: 0.4762\n",
            "Epoch 69/100\n",
            "3/3 [==============================] - 4s 1s/step - loss: 0.2376 - acc: 0.9271 - val_loss: 1.6358 - val_acc: 0.4286\n",
            "Epoch 70/100\n",
            "3/3 [==============================] - 4s 1s/step - loss: 0.2227 - acc: 0.9375 - val_loss: 1.6928 - val_acc: 0.4286\n",
            "Epoch 71/100\n",
            "3/3 [==============================] - 4s 1s/step - loss: 0.2046 - acc: 0.9583 - val_loss: 1.6621 - val_acc: 0.4286\n",
            "Epoch 72/100\n",
            "3/3 [==============================] - 4s 1s/step - loss: 0.2255 - acc: 0.9479 - val_loss: 1.5426 - val_acc: 0.4286\n",
            "Epoch 73/100\n",
            "3/3 [==============================] - 4s 1s/step - loss: 0.2282 - acc: 0.9375 - val_loss: 1.6979 - val_acc: 0.4286\n",
            "Epoch 74/100\n",
            "3/3 [==============================] - 4s 1s/step - loss: 0.1777 - acc: 0.9583 - val_loss: 1.5151 - val_acc: 0.4762\n",
            "Epoch 75/100\n",
            "3/3 [==============================] - 4s 1s/step - loss: 0.1644 - acc: 0.9688 - val_loss: 1.5305 - val_acc: 0.4762\n",
            "Epoch 76/100\n",
            "3/3 [==============================] - 4s 1s/step - loss: 0.1853 - acc: 0.9583 - val_loss: 1.3600 - val_acc: 0.4762\n",
            "Epoch 77/100\n",
            "3/3 [==============================] - 4s 1s/step - loss: 0.2047 - acc: 0.9479 - val_loss: 1.6207 - val_acc: 0.4286\n",
            "Epoch 78/100\n",
            "3/3 [==============================] - 4s 1s/step - loss: 0.1846 - acc: 0.9479 - val_loss: 1.6308 - val_acc: 0.5238\n",
            "Epoch 79/100\n",
            "3/3 [==============================] - 4s 1s/step - loss: 0.1874 - acc: 0.9479 - val_loss: 1.5716 - val_acc: 0.5714\n",
            "Epoch 80/100\n",
            "3/3 [==============================] - 4s 1s/step - loss: 0.2288 - acc: 0.9375 - val_loss: 1.5442 - val_acc: 0.5714\n",
            "Epoch 81/100\n",
            "3/3 [==============================] - 4s 1s/step - loss: 0.1586 - acc: 0.9583 - val_loss: 1.4595 - val_acc: 0.5714\n",
            "Epoch 82/100\n",
            "3/3 [==============================] - 4s 1s/step - loss: 0.1766 - acc: 0.9479 - val_loss: 1.5421 - val_acc: 0.5714\n",
            "Epoch 83/100\n",
            "3/3 [==============================] - 4s 1s/step - loss: 0.2017 - acc: 0.9375 - val_loss: 1.4077 - val_acc: 0.5714\n",
            "Epoch 84/100\n",
            "3/3 [==============================] - 4s 1s/step - loss: 0.2365 - acc: 0.9271 - val_loss: 1.4907 - val_acc: 0.5714\n",
            "Epoch 85/100\n",
            "3/3 [==============================] - 4s 1s/step - loss: 0.1732 - acc: 0.9479 - val_loss: 1.5470 - val_acc: 0.5714\n",
            "Epoch 86/100\n",
            "3/3 [==============================] - 4s 1s/step - loss: 0.2090 - acc: 0.9375 - val_loss: 1.5489 - val_acc: 0.5714\n",
            "Epoch 87/100\n",
            "3/3 [==============================] - 4s 1s/step - loss: 0.1664 - acc: 0.9479 - val_loss: 1.5528 - val_acc: 0.6190\n",
            "Epoch 88/100\n",
            "3/3 [==============================] - 4s 1s/step - loss: 0.1331 - acc: 0.9688 - val_loss: 1.5525 - val_acc: 0.6190\n",
            "Epoch 89/100\n",
            "3/3 [==============================] - 4s 1s/step - loss: 0.1423 - acc: 0.9583 - val_loss: 1.4219 - val_acc: 0.6190\n",
            "Epoch 90/100\n",
            "3/3 [==============================] - 4s 1s/step - loss: 0.1910 - acc: 0.9583 - val_loss: 1.3968 - val_acc: 0.6190\n",
            "Epoch 91/100\n",
            "3/3 [==============================] - 4s 1s/step - loss: 0.1837 - acc: 0.9479 - val_loss: 1.3413 - val_acc: 0.6190\n",
            "Epoch 92/100\n",
            "3/3 [==============================] - 4s 1s/step - loss: 0.1449 - acc: 0.9583 - val_loss: 1.4053 - val_acc: 0.5714\n",
            "Epoch 93/100\n",
            "3/3 [==============================] - 4s 1s/step - loss: 0.1247 - acc: 0.9792 - val_loss: 1.4443 - val_acc: 0.5714\n",
            "Epoch 94/100\n",
            "3/3 [==============================] - 4s 1s/step - loss: 0.1536 - acc: 0.9688 - val_loss: 1.8326 - val_acc: 0.5714\n",
            "Epoch 95/100\n",
            "3/3 [==============================] - 4s 1s/step - loss: 0.2058 - acc: 0.9583 - val_loss: 1.5341 - val_acc: 0.6190\n",
            "Epoch 96/100\n",
            "3/3 [==============================] - 4s 1s/step - loss: 0.2088 - acc: 0.9583 - val_loss: 1.5759 - val_acc: 0.5714\n",
            "Epoch 97/100\n",
            "3/3 [==============================] - 4s 1s/step - loss: 0.1667 - acc: 0.9583 - val_loss: 1.8898 - val_acc: 0.4762\n",
            "Epoch 98/100\n",
            "3/3 [==============================] - 4s 1s/step - loss: 0.2916 - acc: 0.9167 - val_loss: 2.0484 - val_acc: 0.4762\n",
            "Epoch 99/100\n",
            "3/3 [==============================] - 4s 1s/step - loss: 0.2324 - acc: 0.9375 - val_loss: 2.4346 - val_acc: 0.3810\n",
            "Epoch 100/100\n",
            "3/3 [==============================] - 4s 1s/step - loss: 0.2599 - acc: 0.9167 - val_loss: 2.1621 - val_acc: 0.4762\n"
          ]
        }
      ]
    },
    {
      "cell_type": "code",
      "metadata": {
        "colab": {
          "base_uri": "https://localhost:8080/",
          "height": 298
        },
        "id": "Emz8n923E2M-",
        "outputId": "be9635c7-da1b-4209-8d0f-50acde94c759"
      },
      "source": [
        "%matplotlib inline\n",
        "import numpy as np\n",
        "import matplotlib.pyplot as plt\n",
        "\n",
        "plt.style.use(\"ggplot\")\n",
        "plt.figure()\n",
        "plt.plot(np.arange(0, 100), H.history[\"loss\"], label=\"train_loss\")\n",
        "plt.plot(np.arange(0, 100), H.history[\"val_loss\"], label=\"val_loss\")\n",
        "plt.title(\"Loss Plot\")\n",
        "plt.xlabel(\"Epoch #\")\n",
        "plt.ylabel(\"Loss\")\n",
        "plt.legend()\n",
        "plt.show()"
      ],
      "execution_count": 140,
      "outputs": [
        {
          "output_type": "display_data",
          "data": {
            "image/png": "[encoded data removed]",
            "text/plain": [
              "<Figure size 432x288 with 1 Axes>"
            ]
          },
          "metadata": {}
        }
      ]
    }
  ]
}